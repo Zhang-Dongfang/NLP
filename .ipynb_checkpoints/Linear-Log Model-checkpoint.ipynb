{
 "cells": [
  {
   "cell_type": "markdown",
   "id": "e5ee7e72",
   "metadata": {},
   "source": [
    "# Linear-Log Model "
   ]
  },
  {
   "cell_type": "markdown",
   "id": "65c81a31",
   "metadata": {},
   "source": [
    "## 0.导入库"
   ]
  },
  {
   "cell_type": "code",
   "execution_count": 1,
   "id": "77a527a9",
   "metadata": {},
   "outputs": [],
   "source": [
    "import math\n",
    "import pickle\n",
    "import re\n",
    "from collections import Counter\n",
    "\n",
    "import nltk\n",
    "import numpy as np\n",
    "import pandas as pd\n",
    "from nltk import pos_tag\n",
    "from nltk.corpus import wordnet\n",
    "from nltk.stem import WordNetLemmatizer\n",
    "from scipy.sparse import csr_matrix\n",
    "from sklearn.metrics import classification_report\n",
    "from sklearn.model_selection import train_test_split\n",
    "from tqdm.notebook import tqdm"
   ]
  },
  {
   "cell_type": "code",
   "execution_count": 2,
   "id": "c654ae16",
   "metadata": {},
   "outputs": [
    {
     "name": "stderr",
     "output_type": "stream",
     "text": [
      "[nltk_data] Downloading package wordnet to\n",
      "[nltk_data]     C:\\Users\\ZDF\\AppData\\Roaming\\nltk_data...\n",
      "[nltk_data]   Package wordnet is already up-to-date!\n",
      "[nltk_data] Downloading package omw-1.4 to\n",
      "[nltk_data]     C:\\Users\\ZDF\\AppData\\Roaming\\nltk_data...\n",
      "[nltk_data]   Package omw-1.4 is already up-to-date!\n",
      "[nltk_data] Downloading package averaged_perceptron_tagger to\n",
      "[nltk_data]     C:\\Users\\ZDF\\AppData\\Roaming\\nltk_data...\n",
      "[nltk_data]   Package averaged_perceptron_tagger is already up-to-\n",
      "[nltk_data]       date!\n"
     ]
    },
    {
     "data": {
      "text/plain": [
       "True"
      ]
     },
     "execution_count": 2,
     "metadata": {},
     "output_type": "execute_result"
    }
   ],
   "source": [
    "nltk.download(\"wordnet\")\n",
    "nltk.download(\"omw-1.4\")\n",
    "nltk.download(\"averaged_perceptron_tagger\")"
   ]
  },
  {
   "cell_type": "markdown",
   "id": "9c83e0ba",
   "metadata": {},
   "source": [
    "## 1.数据导入与预处理"
   ]
  },
  {
   "cell_type": "code",
   "execution_count": 3,
   "id": "f0414798",
   "metadata": {},
   "outputs": [],
   "source": [
    "df = pd.read_csv(\n",
    "    \"ag_news_csv/train.csv\", header=None, names=[\"label\", \"title\", \"description\"]\n",
    ")"
   ]
  },
  {
   "cell_type": "code",
   "execution_count": 3,
   "id": "9fddf9fa-57ee-404e-8c7c-b651dea78775",
   "metadata": {},
   "outputs": [],
   "source": [
    "df = pd.read_csv(\n",
    "    \"ag_news_csv/test.csv\", header=None, names=[\"label\", \"title\", \"description\"]\n",
    ")"
   ]
  },
  {
   "cell_type": "code",
   "execution_count": 4,
   "id": "19be632b",
   "metadata": {},
   "outputs": [
    {
     "name": "stdout",
     "output_type": "stream",
     "text": [
      "   label                                              title  \\\n",
      "0      3  Wall St. Bears Claw Back Into the Black (Reuters)   \n",
      "1      3  Carlyle Looks Toward Commercial Aerospace (Reu...   \n",
      "2      3    Oil and Economy Cloud Stocks' Outlook (Reuters)   \n",
      "3      3  Iraq Halts Oil Exports from Main Southern Pipe...   \n",
      "4      3  Oil prices soar to all-time record, posing new...   \n",
      "\n",
      "                                         description  \n",
      "0  Reuters - Short-sellers, Wall Street's dwindli...  \n",
      "1  Reuters - Private investment firm Carlyle Grou...  \n",
      "2  Reuters - Soaring crude prices plus worries\\ab...  \n",
      "3  Reuters - Authorities have halted oil export\\f...  \n",
      "4  AFP - Tearaway world oil prices, toppling reco...  \n"
     ]
    }
   ],
   "source": [
    "print(df.head())"
   ]
  },
  {
   "cell_type": "code",
   "execution_count": 5,
   "id": "5e61a16b",
   "metadata": {},
   "outputs": [],
   "source": [
    "def replace_space(word):\n",
    "    return re.sub(r\"[-\\\\/&]\", \" \", word)"
   ]
  },
  {
   "cell_type": "code",
   "execution_count": 6,
   "id": "22a10161",
   "metadata": {},
   "outputs": [],
   "source": [
    "df[\"title\"] = df[\"title\"].apply(replace_space)\n",
    "df[\"description\"] = df[\"description\"].apply(replace_space)"
   ]
  },
  {
   "cell_type": "code",
   "execution_count": 7,
   "id": "58e3258e",
   "metadata": {},
   "outputs": [],
   "source": [
    "def replace_num(word):\n",
    "    return re.sub(r\"\\d+\", \"<NUM>\", word)"
   ]
  },
  {
   "cell_type": "code",
   "execution_count": 8,
   "id": "34327eda",
   "metadata": {},
   "outputs": [],
   "source": [
    "df[\"title\"] = df[\"title\"].apply(replace_num)\n",
    "df[\"description\"] = df[\"description\"].apply(replace_num)"
   ]
  },
  {
   "cell_type": "code",
   "execution_count": 9,
   "id": "bff6c27d",
   "metadata": {},
   "outputs": [],
   "source": [
    "def separate_num(word):\n",
    "    return re.sub(r\"(<NUM>)\", r\" \\1 \", word)"
   ]
  },
  {
   "cell_type": "code",
   "execution_count": 10,
   "id": "2dcfe480",
   "metadata": {},
   "outputs": [],
   "source": [
    "df[\"title\"] = df[\"title\"].apply(separate_num)\n",
    "df[\"description\"] = df[\"description\"].apply(separate_num)"
   ]
  },
  {
   "cell_type": "code",
   "execution_count": 11,
   "id": "c4740dfc",
   "metadata": {},
   "outputs": [
    {
     "name": "stdout",
     "output_type": "stream",
     "text": [
      "        label                                              title  \\\n",
      "0           3  Wall St. Bears Claw Back Into the Black (Reuters)   \n",
      "1           3  Carlyle Looks Toward Commercial Aerospace (Reu...   \n",
      "2           3    Oil and Economy Cloud Stocks' Outlook (Reuters)   \n",
      "3           3  Iraq Halts Oil Exports from Main Southern Pipe...   \n",
      "4           3  Oil prices soar to all time record, posing new...   \n",
      "...       ...                                                ...   \n",
      "119995      1  Pakistan's Musharraf Says Won't Quit as Army C...   \n",
      "119996      2                  Renteria signing a top shelf deal   \n",
      "119997      2                    Saban not going to Dolphins yet   \n",
      "119998      2                                  Today's NFL games   \n",
      "119999      2                       Nets get Carter from Raptors   \n",
      "\n",
      "                                              description  \n",
      "0       Reuters   Short sellers, Wall Street's dwindli...  \n",
      "1       Reuters   Private investment firm Carlyle Grou...  \n",
      "2       Reuters   Soaring crude prices plus worries ab...  \n",
      "3       Reuters   Authorities have halted oil export f...  \n",
      "4       AFP   Tearaway world oil prices, toppling reco...  \n",
      "...                                                   ...  \n",
      "119995   KARACHI (Reuters)   Pakistani President Perve...  \n",
      "119996  Red Sox general manager Theo Epstein acknowled...  \n",
      "119997  The Miami Dolphins will put their courtship of...  \n",
      "119998  PITTSBURGH at NY GIANTS Time:  <NUM> : <NUM>  ...  \n",
      "119999  INDIANAPOLIS    All Star Vince Carter was trad...  \n",
      "\n",
      "[120000 rows x 3 columns]\n"
     ]
    }
   ],
   "source": [
    "print(df)"
   ]
  },
  {
   "cell_type": "code",
   "execution_count": 12,
   "id": "1f023cbf",
   "metadata": {},
   "outputs": [],
   "source": [
    "def tokenize(text):\n",
    "    return text.split()"
   ]
  },
  {
   "cell_type": "code",
   "execution_count": 13,
   "id": "0987f1b5",
   "metadata": {},
   "outputs": [],
   "source": [
    "df[\"tokens\"] = df[\"title\"].apply(tokenize) + df[\"description\"].apply(tokenize)"
   ]
  },
  {
   "cell_type": "code",
   "execution_count": 14,
   "id": "31950454",
   "metadata": {},
   "outputs": [
    {
     "name": "stdout",
     "output_type": "stream",
     "text": [
      "0         [Wall, St., Bears, Claw, Back, Into, the, Blac...\n",
      "1         [Carlyle, Looks, Toward, Commercial, Aerospace...\n",
      "2         [Oil, and, Economy, Cloud, Stocks', Outlook, (...\n",
      "3         [Iraq, Halts, Oil, Exports, from, Main, Southe...\n",
      "4         [Oil, prices, soar, to, all, time, record,, po...\n",
      "                                ...                        \n",
      "119995    [Pakistan's, Musharraf, Says, Won't, Quit, as,...\n",
      "119996    [Renteria, signing, a, top, shelf, deal, Red, ...\n",
      "119997    [Saban, not, going, to, Dolphins, yet, The, Mi...\n",
      "119998    [Today's, NFL, games, PITTSBURGH, at, NY, GIAN...\n",
      "119999    [Nets, get, Carter, from, Raptors, INDIANAPOLI...\n",
      "Name: tokens, Length: 120000, dtype: object\n"
     ]
    }
   ],
   "source": [
    "print(df[\"tokens\"])"
   ]
  },
  {
   "cell_type": "code",
   "execution_count": 15,
   "id": "09e40322",
   "metadata": {},
   "outputs": [],
   "source": [
    "df.drop(\"description\", axis=1, inplace=True)\n",
    "df.drop(\"title\", axis=1, inplace=True)"
   ]
  },
  {
   "cell_type": "code",
   "execution_count": 16,
   "id": "ac1078da",
   "metadata": {},
   "outputs": [
    {
     "name": "stdout",
     "output_type": "stream",
     "text": [
      "        label                                             tokens\n",
      "0           3  [Wall, St., Bears, Claw, Back, Into, the, Blac...\n",
      "1           3  [Carlyle, Looks, Toward, Commercial, Aerospace...\n",
      "2           3  [Oil, and, Economy, Cloud, Stocks', Outlook, (...\n",
      "3           3  [Iraq, Halts, Oil, Exports, from, Main, Southe...\n",
      "4           3  [Oil, prices, soar, to, all, time, record,, po...\n",
      "...       ...                                                ...\n",
      "119995      1  [Pakistan's, Musharraf, Says, Won't, Quit, as,...\n",
      "119996      2  [Renteria, signing, a, top, shelf, deal, Red, ...\n",
      "119997      2  [Saban, not, going, to, Dolphins, yet, The, Mi...\n",
      "119998      2  [Today's, NFL, games, PITTSBURGH, at, NY, GIAN...\n",
      "119999      2  [Nets, get, Carter, from, Raptors, INDIANAPOLI...\n",
      "\n",
      "[120000 rows x 2 columns]\n"
     ]
    }
   ],
   "source": [
    "print(df)"
   ]
  },
  {
   "cell_type": "code",
   "execution_count": 17,
   "id": "cdb29cfc",
   "metadata": {},
   "outputs": [],
   "source": [
    "def lower(tokens):\n",
    "    return [word.lower() for word in tokens]"
   ]
  },
  {
   "cell_type": "code",
   "execution_count": 18,
   "id": "16df5101",
   "metadata": {},
   "outputs": [],
   "source": [
    "df[\"tokens\"] = df[\"tokens\"].apply(lower)"
   ]
  },
  {
   "cell_type": "code",
   "execution_count": 19,
   "id": "2c34143a",
   "metadata": {},
   "outputs": [
    {
     "name": "stdout",
     "output_type": "stream",
     "text": [
      "0         [wall, st., bears, claw, back, into, the, blac...\n",
      "1         [carlyle, looks, toward, commercial, aerospace...\n",
      "2         [oil, and, economy, cloud, stocks', outlook, (...\n",
      "3         [iraq, halts, oil, exports, from, main, southe...\n",
      "4         [oil, prices, soar, to, all, time, record,, po...\n",
      "                                ...                        \n",
      "119995    [pakistan's, musharraf, says, won't, quit, as,...\n",
      "119996    [renteria, signing, a, top, shelf, deal, red, ...\n",
      "119997    [saban, not, going, to, dolphins, yet, the, mi...\n",
      "119998    [today's, nfl, games, pittsburgh, at, ny, gian...\n",
      "119999    [nets, get, carter, from, raptors, indianapoli...\n",
      "Name: tokens, Length: 120000, dtype: object\n"
     ]
    }
   ],
   "source": [
    "print(df[\"tokens\"])"
   ]
  },
  {
   "cell_type": "code",
   "execution_count": 20,
   "id": "f8a1407e",
   "metadata": {},
   "outputs": [],
   "source": [
    "def remove_word_suffixes(word):\n",
    "    if word.endswith(\"'s\"):\n",
    "        word = word[:-2]\n",
    "    # elif word.endswith(\"s\"):\n",
    "    #    word = word[:-1]\n",
    "    else:\n",
    "        return re.sub(r'[.,:()\\'\"?;#$!]', \"\", word)"
   ]
  },
  {
   "cell_type": "code",
   "execution_count": 21,
   "id": "a603e2eb",
   "metadata": {},
   "outputs": [],
   "source": [
    "def remove_suffixes(tokens):\n",
    "    return [remove_word_suffixes(word) for word in tokens]"
   ]
  },
  {
   "cell_type": "code",
   "execution_count": 22,
   "id": "03e3cd08",
   "metadata": {},
   "outputs": [],
   "source": [
    "df[\"tokens\"] = df[\"tokens\"].apply(remove_suffixes)"
   ]
  },
  {
   "cell_type": "code",
   "execution_count": 23,
   "id": "124bd72a",
   "metadata": {},
   "outputs": [
    {
     "name": "stdout",
     "output_type": "stream",
     "text": [
      "0         [wall, st, bears, claw, back, into, the, black...\n",
      "1         [carlyle, looks, toward, commercial, aerospace...\n",
      "2         [oil, and, economy, cloud, stocks, outlook, re...\n",
      "3         [iraq, halts, oil, exports, from, main, southe...\n",
      "4         [oil, prices, soar, to, all, time, record, pos...\n",
      "                                ...                        \n",
      "119995    [None, musharraf, says, wont, quit, as, army, ...\n",
      "119996    [renteria, signing, a, top, shelf, deal, red, ...\n",
      "119997    [saban, not, going, to, dolphins, yet, the, mi...\n",
      "119998    [None, nfl, games, pittsburgh, at, ny, giants,...\n",
      "119999    [nets, get, carter, from, raptors, indianapoli...\n",
      "Name: tokens, Length: 120000, dtype: object\n"
     ]
    }
   ],
   "source": [
    "print(df[\"tokens\"])"
   ]
  },
  {
   "cell_type": "code",
   "execution_count": 24,
   "id": "b57e1407",
   "metadata": {},
   "outputs": [],
   "source": [
    "def remove_stopwords(tokens):\n",
    "    return [word for word in tokens if (word not in stopwords) and (word is not None)]"
   ]
  },
  {
   "cell_type": "code",
   "execution_count": 25,
   "id": "8f589bc4",
   "metadata": {},
   "outputs": [],
   "source": [
    "with open(\"stopwords.txt\") as file:\n",
    "    stopwords = file.read().split(\",\")"
   ]
  },
  {
   "cell_type": "code",
   "execution_count": 26,
   "id": "6e45ed08",
   "metadata": {},
   "outputs": [
    {
     "name": "stdout",
     "output_type": "stream",
     "text": [
      "['0', '1', '2', '3', '4', '5', '6', '7', '8', '9', 'a', 'A', 'about', 'above', 'across', 'after', 'again', 'against', 'all', 'almost', 'alone', 'along', 'already', 'also', 'although', 'always', 'am', 'among', 'an', 'and', 'another', 'any', 'anyone', 'anything', 'anywhere', 'are', \"aren't\", 'around', 'as', 'at', 'b', 'B', 'back', 'be', 'became', 'because', 'become', 'becomes', 'been', 'before', 'behind', 'being', 'below', 'between', 'both', 'but', 'by', 'c', 'C', 'can', 'cannot', \"can't\", 'could', \"couldn't\", 'd', 'D', 'did', \"didn't\", 'do', 'does', \"doesn't\", 'doing', 'done', \"don't\", 'down', 'during', 'e', 'E', 'each', 'either', 'enough', 'even', 'ever', 'every', 'everyone', 'everything', 'everywhere', 'f', 'F', 'few', 'find', 'first', 'for', 'four', 'from', 'full', 'further', 'g', 'G', 'get', 'give', 'go', 'h', 'H', 'had', \"hadn't\", 'has', \"hasn't\", 'have', \"haven't\", 'having', 'he', \"he'd\", \"he'll\", 'her', 'here', \"here's\", 'hers', 'herself', \"he's\", 'him', 'himself', 'his', 'how', 'however', \"how's\", 'i', 'I', \"i'd\", 'if', \"i'll\", \"i'm\", 'in', 'interest', 'into', 'is', \"isn't\", 'it', \"it's\", 'its', 'itself', \"i've\", 'j', 'J', 'k', 'K', 'keep', 'l', 'L', 'last', 'least', 'less', \"let's\", 'made', 'many', 'may', 'me', 'might', 'more', 'most', 'mostly', 'much', 'must', \"mustn't\", 'my', 'myself', 'n', 'N', 'never', 'next', 'no', 'nobody', 'noone', 'nor', 'not', 'nothing', 'now', 'nowhere', 'o', 'O', 'of', 'off', 'often', 'on', 'once', 'one', 'only', 'or', 'other', 'others', 'ought', 'our', 'ours', 'ourselves', 'out', 'over', 'own', 'p', 'P', 'part', 'per', 'perhaps', 'put', 'q', 'Q', 'r', 'R', 'rather', 'same', 'see', 'seem', 'seemed', 'seeming', 'seems', 'several', \"shan't\", 'she', \"she'd\", \"she'll\", \"she's\", 'should', \"shouldn't\", 'show', 'side', 'since', 'so', 'some', 'someone', 'something', 'somewhere', 'still', 'such', 't', 'T', 'take', 'than', 'that', \"that's\", 'the', 'their', 'theirs', 'them', 'themselves', 'then', 'there', 'therefore', \"there's\", 'these', 'they', \"they'd\", \"they'll\", \"they're\", \"they've\", 'this', 'those', 'though', 'three', 'through', 'thus', 'to', 'together', 'too', 'toward', 'two', 'u', 'U', 'under', 'until', 'up', 'upon', 'us', 'v', 'V', 'very', 'w', 'W', 'was', \"wasn't\", 'we', \"we'd\", \"we'll\", \"won't\", 'well', \"we're\", 'were', \"weren't\", \"we've\", 'what', \"what's\", 'when', \"when's\", 'where', \"where's\", 'whether', 'which', 'while', 'who', 'whole', 'whom', \"who's\", 'whose', 'why', \"why's\", 'will', 'with', 'within', 'without', \"won't\", 'would', \"wouldn't\", 'x', 'X', 'y', 'Y', 'yet', 'you', \"you'd\", \"you'll\", 'your', \"you're\", 'yours', 'yourself', 'yourselves', \"you've\", 'z', 'Z', '--', '']\n"
     ]
    }
   ],
   "source": [
    "print(stopwords)"
   ]
  },
  {
   "cell_type": "code",
   "execution_count": 27,
   "id": "efb3e842",
   "metadata": {},
   "outputs": [],
   "source": [
    "df[\"tokens\"] = df[\"tokens\"].apply(remove_stopwords)"
   ]
  },
  {
   "cell_type": "code",
   "execution_count": 28,
   "id": "89b23148",
   "metadata": {},
   "outputs": [
    {
     "name": "stdout",
     "output_type": "stream",
     "text": [
      "0         [wall, st, bears, claw, black, reuters, reuter...\n",
      "1         [carlyle, looks, commercial, aerospace, reuter...\n",
      "2         [oil, economy, cloud, stocks, outlook, reuters...\n",
      "3         [iraq, halts, oil, exports, main, southern, pi...\n",
      "4         [oil, prices, soar, time, record, posing, new,...\n",
      "                                ...                        \n",
      "119995    [musharraf, says, wont, quit, army, chief, kar...\n",
      "119996    [renteria, signing, top, shelf, deal, red, sox...\n",
      "119997    [saban, going, dolphins, miami, dolphins, cour...\n",
      "119998    [nfl, games, pittsburgh, ny, giants, time, <nu...\n",
      "119999    [nets, carter, raptors, indianapolis, star, vi...\n",
      "Name: tokens, Length: 120000, dtype: object\n"
     ]
    }
   ],
   "source": [
    "print(df[\"tokens\"])"
   ]
  },
  {
   "cell_type": "code",
   "execution_count": 29,
   "id": "db418b04",
   "metadata": {},
   "outputs": [],
   "source": [
    "def get_wordnet_pos(treebank_tag):\n",
    "    if treebank_tag.startswith(\"J\"):\n",
    "        return wordnet.ADJ\n",
    "    elif treebank_tag.startswith(\"V\"):\n",
    "        return wordnet.VERB\n",
    "    elif treebank_tag.startswith(\"N\"):\n",
    "        return wordnet.NOUN\n",
    "    elif treebank_tag.startswith(\"R\"):\n",
    "        return wordnet.ADV\n",
    "    else:\n",
    "        return wordnet.NOUN"
   ]
  },
  {
   "cell_type": "code",
   "execution_count": 30,
   "id": "76a7bf9e",
   "metadata": {},
   "outputs": [],
   "source": [
    "def lemmatize_with_pos(tokens):\n",
    "    pos_tagged = pos_tag(tokens)\n",
    "    return [\n",
    "        lemmatizer.lemmatize(token, get_wordnet_pos(pos)) for token, pos in pos_tagged\n",
    "    ]"
   ]
  },
  {
   "cell_type": "code",
   "execution_count": null,
   "id": "d952b60d",
   "metadata": {},
   "outputs": [],
   "source": [
    "lemmatizer = WordNetLemmatizer()\n",
    "\n",
    "df[\"tokens\"] = df[\"tokens\"].apply(lemmatize_with_pos)"
   ]
  },
  {
   "cell_type": "code",
   "execution_count": null,
   "id": "47e1436a",
   "metadata": {},
   "outputs": [],
   "source": [
    "print(df[\"tokens\"])"
   ]
  },
  {
   "cell_type": "code",
   "execution_count": 33,
   "id": "ff479de9",
   "metadata": {},
   "outputs": [],
   "source": [
    "df.to_pickle(\"processed_train_data.pkl\")"
   ]
  },
  {
   "cell_type": "code",
   "execution_count": 33,
   "id": "4d08a4bb-3110-4b37-a846-6b2c88334842",
   "metadata": {},
   "outputs": [],
   "source": [
    "df.to_pickle(\"processed_test_data.pkl\")"
   ]
  },
  {
   "cell_type": "markdown",
   "id": "09a5b0b4",
   "metadata": {},
   "source": [
    "## 2.TF-IDF编码"
   ]
  },
  {
   "cell_type": "code",
   "execution_count": 2,
   "id": "bd19ad1f-b00b-437a-b1ee-c6b922f2d6aa",
   "metadata": {},
   "outputs": [],
   "source": [
    "df = pd.read_pickle(\"processed_train_data.pkl\")"
   ]
  },
  {
   "cell_type": "code",
   "execution_count": 52,
   "id": "efe52531-beda-4b81-b3d4-b17095ea45b5",
   "metadata": {},
   "outputs": [],
   "source": [
    "df = pd.read_pickle(\"processed_test_data.pkl\")"
   ]
  },
  {
   "cell_type": "code",
   "execution_count": 3,
   "id": "a1a22b05-9203-48d9-9c89-3230252dcf3e",
   "metadata": {},
   "outputs": [
    {
     "name": "stdout",
     "output_type": "stream",
     "text": [
      "        label                                             tokens\n",
      "0           3  [wall, st, bear, claw, black, reuters, reuters...\n",
      "1           3  [carlyle, look, commercial, aerospace, reuters...\n",
      "2           3  [oil, economy, cloud, stock, outlook, reuters,...\n",
      "3           3  [iraq, halt, oil, export, main, southern, pipe...\n",
      "4           3  [oil, price, soar, time, record, pose, new, me...\n",
      "...       ...                                                ...\n",
      "119995      1  [musharraf, say, wont, quit, army, chief, kara...\n",
      "119996      2  [renteria, sign, top, shelf, deal, red, sox, g...\n",
      "119997      2  [saban, go, dolphin, miami, dolphin, courtship...\n",
      "119998      2  [nfl, game, pittsburgh, ny, giant, time, <num>...\n",
      "119999      2  [net, carter, raptor, indianapolis, star, vinc...\n",
      "\n",
      "[120000 rows x 2 columns]\n"
     ]
    }
   ],
   "source": [
    "print(df)"
   ]
  },
  {
   "cell_type": "code",
   "execution_count": 4,
   "id": "d2b668aa",
   "metadata": {},
   "outputs": [],
   "source": [
    "words_counter = Counter()\n",
    "for tokens in df[\"tokens\"]:\n",
    "    words_counter.update(tokens)\n",
    "vocabulary = dict(words_counter)"
   ]
  },
  {
   "cell_type": "code",
   "execution_count": 5,
   "id": "bd3380b3",
   "metadata": {},
   "outputs": [
    {
     "name": "stdout",
     "output_type": "stream",
     "text": [
      "wall: 1500\n",
      "st: 1679\n",
      "bear: 722\n",
      "claw: 36\n",
      "black: 836\n",
      "reuters: 17270\n",
      "short: 924\n",
      "seller: 105\n",
      "dwindle: 48\n",
      "band: 240\n",
      "ultra: 81\n",
      "cynic: 6\n",
      "see: 1861\n",
      "green: 864\n",
      "carlyle: 16\n",
      "look: 2786\n",
      "commercial: 541\n",
      "aerospace: 129\n",
      "private: 721\n",
      "investment: 986\n"
     ]
    }
   ],
   "source": [
    "counter = 0\n",
    "for key, value in vocabulary.items():\n",
    "    if counter < 20:\n",
    "        print(f\"{key}: {value}\")\n",
    "        counter += 1\n",
    "    else:\n",
    "        break"
   ]
  },
  {
   "cell_type": "code",
   "execution_count": 6,
   "id": "86459566",
   "metadata": {},
   "outputs": [],
   "source": [
    "def compute_tf(tokens):\n",
    "    tf = Counter(tokens)\n",
    "    for i in tf:\n",
    "        tf[i] = (1 + math.log10(tf[i])) if tf[i] != 0 else 0\n",
    "    return dict(tf)"
   ]
  },
  {
   "cell_type": "code",
   "execution_count": 7,
   "id": "6373e9a8",
   "metadata": {},
   "outputs": [],
   "source": [
    "TF = [compute_tf(tokens) for tokens in df[\"tokens\"]]"
   ]
  },
  {
   "cell_type": "code",
   "execution_count": 8,
   "id": "24f3046f",
   "metadata": {},
   "outputs": [
    {
     "name": "stdout",
     "output_type": "stream",
     "text": [
      "{'wall': 1.3010299956639813, 'st': 1.0, 'bear': 1.0, 'claw': 1.0, 'black': 1.0, 'reuters': 1.3010299956639813, 'short': 1.0, 'seller': 1.0, 'dwindle': 1.0, 'band': 1.0, 'ultra': 1.0, 'cynic': 1.0, 'see': 1.0, 'green': 1.0}\n",
      "{'carlyle': 1.3010299956639813, 'look': 1.0, 'commercial': 1.0, 'aerospace': 1.0, 'reuters': 1.3010299956639813, 'private': 1.0, 'investment': 1.0, 'firm': 1.0, 'group': 1.0, 'reputation': 1.0, 'make': 1.0, 'time': 1.0, 'occasionally': 1.0, 'controversial': 1.0, 'play': 1.0, 'defense': 1.0, 'industry': 1.0, 'quietly': 1.0, 'place': 1.0, 'bet': 1.0, 'market': 1.0}\n",
      "{'oil': 1.0, 'economy': 1.3010299956639813, 'cloud': 1.0, 'stock': 1.3010299956639813, 'outlook': 1.3010299956639813, 'reuters': 1.3010299956639813, 'soar': 1.0, 'crude': 1.0, 'price': 1.0, 'plus': 1.0, 'worry': 1.0, 'earnings': 1.0, 'expect': 1.0, 'hang': 1.0, 'market': 1.0, 'week': 1.0, 'depth': 1.0, 'summer': 1.0, 'doldrums': 1.0}\n",
      "{'iraq': 1.3010299956639813, 'halt': 1.3010299956639813, 'oil': 1.4771212547196624, 'export': 1.3010299956639813, 'main': 1.3010299956639813, 'southern': 1.3010299956639813, 'pipeline': 1.3010299956639813, 'reuters': 1.3010299956639813, 'authority': 1.0, 'flow': 1.0, 'intelligence': 1.0, 'show': 1.0, 'rebel': 1.0, 'militia': 1.0, 'strike': 1.0, 'infrastructure': 1.0, 'official': 1.0, 'say': 1.0, 'saturday': 1.0}\n",
      "{'oil': 1.3010299956639813, 'price': 1.3010299956639813, 'soar': 1.0, 'time': 1.0, 'record': 1.3010299956639813, 'pose': 1.0, 'new': 1.3010299956639813, 'menace': 1.3010299956639813, 'economy': 1.0, 'afp': 1.3010299956639813, 'tearaway': 1.0, 'world': 1.0, 'toppling': 1.0, 'strain': 1.0, 'wallet': 1.0, 'present': 1.0, 'economic': 1.0, 'barely': 1.0, 'month': 1.0, 'presidential': 1.0, 'election': 1.0}\n",
      "{'stock': 1.3010299956639813, 'end': 1.3010299956639813, 'near': 1.3010299956639813, 'year': 1.3010299956639813, 'low': 1.3010299956639813, 'reuters': 1.3010299956639813, 'slightly': 1.0, 'high': 1.0, 'friday': 1.0, 'stay': 1.0, 'oil': 1.0, 'price': 1.0, 'surge': 1.0, 'past': 1.0, '<num>': 1.3010299956639813, 'barrel': 1.0, 'offset': 1.0, 'positive': 1.0, 'outlook': 1.0, 'computer': 1.0, 'maker': 1.0, 'dell': 1.0, 'inc': 1.0, 'dello': 1.0}\n",
      "{'money': 1.3010299956639813, 'fund': 1.3010299956639813, 'fell': 1.3010299956639813, 'late': 1.3010299956639813, 'week': 1.3010299956639813, 'ap': 1.3010299956639813, 'asset': 1.0, 'retail': 1.0, 'market': 1.0, 'mutual': 1.0, '<num>': 1.7781512503836436, 'billion': 1.0, 'trillion': 1.0, 'investment': 1.0, 'company': 1.0, 'institute': 1.0, 'say': 1.0, 'thursday': 1.0}\n",
      "{'feed': 1.0, 'minute': 1.0, 'dissent': 1.0, 'inflation': 1.0, 'usatodaycom': 1.3010299956639813, 'retail': 1.0, 'sale': 1.0, 'bounce': 1.0, 'bit': 1.0, 'july': 1.0, 'new': 1.0, 'claim': 1.0, 'jobless': 1.0, 'benefit': 1.0, 'fell': 1.0, 'week': 1.0, 'government': 1.0, 'say': 1.0, 'thursday': 1.0, 'indicate': 1.0, 'economy': 1.0, 'improve': 1.0, 'midsummer': 1.0, 'slump': 1.0}\n",
      "{'safety': 1.0, 'net': 1.0, 'forbescom': 1.3010299956639813, 'earn': 1.0, 'phd': 1.0, 'sociology': 1.0, 'danny': 1.0, 'bazil': 1.0, 'riley': 1.3010299956639813, 'start': 1.0, 'work': 1.0, 'general': 1.0, 'manager': 1.0, 'commercial': 1.0, 'real': 1.0, 'estate': 1.0, 'firm': 1.0, 'annual': 1.0, 'base': 1.0, 'salary': 1.0, '<num>': 1.6020599913279625, 'soon': 1.0, 'financial': 1.0, 'planner': 1.0, 'stop': 1.0, 'desk': 1.0, 'drop': 1.0, 'brochures': 1.0, 'insurance': 1.3010299956639813, 'benefit': 1.0, 'available': 1.0, 'employer': 1.0, 'buying': 1.0, 'furthest': 1.0, 'thing': 1.0, 'mind': 1.0, 'say': 1.0}\n",
      "{'wall': 1.3010299956639813, 'st': 1.0, 'bear': 1.0, 'claw': 1.0, 'black': 1.0, 'new': 1.0, 'york': 1.0, 'reuters': 1.0, 'short': 1.0, 'seller': 1.0, 'dwindle': 1.0, 'band': 1.0, 'ultra': 1.0, 'cynic': 1.0, 'see': 1.0, 'green': 1.0}\n"
     ]
    }
   ],
   "source": [
    "counter = 0\n",
    "for i in TF:\n",
    "    if counter < 10:\n",
    "        print(i)\n",
    "        counter += 1\n",
    "    else:\n",
    "        break"
   ]
  },
  {
   "cell_type": "code",
   "execution_count": 9,
   "id": "297b9e3d",
   "metadata": {},
   "outputs": [],
   "source": [
    "def compute_idf(dft, df_tokens_len):\n",
    "    return math.log10(df_tokens_len / dft)"
   ]
  },
  {
   "cell_type": "code",
   "execution_count": 10,
   "id": "9dcb11c1",
   "metadata": {},
   "outputs": [],
   "source": [
    "IDF = {word: compute_idf(dft, len(df[\"tokens\"])) for word, dft in vocabulary.items()}"
   ]
  },
  {
   "cell_type": "code",
   "execution_count": 12,
   "id": "3756bb9b-b4b1-45d2-bbab-b3e42b55f2a3",
   "metadata": {},
   "outputs": [],
   "source": [
    "with open(\"IDF.pkl\", \"wb\") as f:\n",
    "    pickle.dump(IDF, f)"
   ]
  },
  {
   "cell_type": "code",
   "execution_count": 13,
   "id": "bc896e3b-1aa5-4722-aca7-b725069983c4",
   "metadata": {},
   "outputs": [],
   "source": [
    "with open(\"IDF.pkl\", \"rb\") as f:\n",
    "    IDF = pickle.load(f)"
   ]
  },
  {
   "cell_type": "code",
   "execution_count": 58,
   "id": "270c51cb",
   "metadata": {},
   "outputs": [
    {
     "name": "stdout",
     "output_type": "stream",
     "text": [
      "wall: 0.7047223332251101\n",
      "st: 0.6557628961427425\n",
      "bear: 1.0222763947111522\n",
      "claw: 2.324511091513504\n",
      "black: 0.958607314841775\n",
      "reuters: -0.35647874528666745\n",
      "short: 0.9151416210606848\n",
      "seller: 1.8596242932108533\n",
      "dwindle: 2.199572354905204\n",
      "band: 1.5006023505691855\n",
      "ultra: 1.9723285734021416\n",
      "cynic: 3.102662341897148\n",
      "see: 0.6110672191500244\n",
      "green: 0.9442998498018981\n",
      "carlyle: 2.6766936096248664\n",
      "look: 0.4358324801928467\n",
      "commercial: 1.147616327174222\n",
      "aerospace: 1.7702238819815423\n",
      "private: 1.0228783275613624\n",
      "investment: 0.8869366773395801\n"
     ]
    }
   ],
   "source": [
    "counter = 0\n",
    "for key, value in IDF.items():\n",
    "    if counter < 20:\n",
    "        print(f\"{key}: {value}\")\n",
    "        counter += 1\n",
    "    else:\n",
    "        break"
   ]
  },
  {
   "cell_type": "code",
   "execution_count": 59,
   "id": "a653db3a",
   "metadata": {},
   "outputs": [],
   "source": [
    "data = []\n",
    "indices = []\n",
    "indptr = [0]"
   ]
  },
  {
   "cell_type": "code",
   "execution_count": 60,
   "id": "e4ef57dc-c3ce-45e8-bf99-eca62289fa15",
   "metadata": {},
   "outputs": [],
   "source": [
    "word_list = list(IDF.keys())\n",
    "word_to_index = {word: i for i, word in enumerate(word_list)}"
   ]
  },
  {
   "cell_type": "code",
   "execution_count": 61,
   "id": "6f3e0093-9012-4c1c-a437-55b3b9ce6651",
   "metadata": {},
   "outputs": [],
   "source": [
    "for i in range(len(TF)):\n",
    "    for word, tf in TF[i].items():\n",
    "        if word in IDF:\n",
    "            tf_idf = tf * IDF[word]\n",
    "            data.append(tf_idf)\n",
    "            indices.append(word_to_index[word])\n",
    "    indptr.append(len(data))"
   ]
  },
  {
   "cell_type": "code",
   "execution_count": 62,
   "id": "b44abd87-95bc-451e-9d4c-5e5b849c7749",
   "metadata": {},
   "outputs": [],
   "source": [
    "tf_idf = csr_matrix((data, indices, indptr), shape=(len(TF), len(IDF)), dtype=float)"
   ]
  },
  {
   "cell_type": "code",
   "execution_count": 76,
   "id": "5c5ed590-c08f-4037-b37e-ac2e82ff073a",
   "metadata": {},
   "outputs": [
    {
     "name": "stdout",
     "output_type": "stream",
     "text": [
      "  (0, 2206)\t0.773264462536105\n",
      "  (0, 6322)\t1.114400745168392\n",
      "  (0, 239)\t0.40763442637320413\n",
      "  (0, 4888)\t0.5077176052020644\n",
      "  (0, 3694)\t1.4109915763026284\n",
      "  (0, 3102)\t0.6387693529112404\n",
      "  (0, 17148)\t2.0814730428272097\n",
      "  (0, 21062)\t3.4036923375611288\n",
      "  (0, 66)\t-0.5817491067734005\n",
      "  (0, 6101)\t2.132625565274591\n",
      "  (0, 7934)\t2.1648102486459924\n",
      "  (0, 1504)\t1.222802195623679\n",
      "  (0, 20)\t0.484091313777018\n",
      "  (0, 1095)\t0.4618497615771687\n",
      "  (0, 2752)\t2.227601078505448\n",
      "  (1, 1493)\t0.6043517881075472\n",
      "  (1, 324)\t0.24707735517949558\n",
      "  (1, 18)\t1.0228783275613624\n",
      "  (1, 918)\t0.22131044093316934\n",
      "  (1, 1319)\t0.2772362241293246\n",
      "  (1, 961)\t0.46101357765046674\n",
      "  (1, 3528)\t1.5524990983818976\n",
      "  (1, 1201)\t0.8378445188876112\n",
      "  (1, 1514)\t2.3493346752385365\n",
      "  (1, 1214)\t1.831924578604543\n",
      "  :\t:\n",
      "  (7598, 2355)\t1.211496711714679\n",
      "  (7598, 2056)\t0.28487668601161775\n",
      "  (7598, 583)\t0.042972730625268726\n",
      "  (7598, 318)\t0.5600443639421049\n",
      "  (7598, 9286)\t1.9265710828414664\n",
      "  (7598, 1009)\t0.8402112521667182\n",
      "  (7598, 1532)\t0.4580596509794431\n",
      "  (7598, 10243)\t2.3367455479305157\n",
      "  (7598, 693)\t0.8049018307980138\n",
      "  (7598, 6668)\t2.5585942975468723\n",
      "  (7599, 2458)\t1.6594748782534812\n",
      "  (7599, 204)\t0.4293341871559295\n",
      "  (7599, 3393)\t2.1372897792883507\n",
      "  (7599, 406)\t0.07395556276197396\n",
      "  (7599, 323)\t0.40325826008181026\n",
      "  (7599, 13839)\t1.917025764935236\n",
      "  (7599, 866)\t0.31555624886057765\n",
      "  (7599, 611)\t0.1525409943857743\n",
      "  (7599, 57843)\t2.449449828121804\n",
      "  (7599, 94)\t-1.3505718836790193\n",
      "  (7599, 175)\t0.07749306870203723\n",
      "  (7599, 748)\t0.669693051022742\n",
      "  (7599, 9577)\t3.1818435879447726\n",
      "  (7599, 33112)\t3.57978359661681\n",
      "  (7599, 203)\t1.024689148038491\n"
     ]
    }
   ],
   "source": [
    "print(tf_idf)"
   ]
  },
  {
   "cell_type": "code",
   "execution_count": 64,
   "id": "445abde2-ddeb-497a-bf33-044f5d3e3ad2",
   "metadata": {},
   "outputs": [
    {
     "name": "stdout",
     "output_type": "stream",
     "text": [
      "(7600, 58148)\n"
     ]
    }
   ],
   "source": [
    "print(tf_idf.shape)"
   ]
  },
  {
   "cell_type": "markdown",
   "id": "80140590-2fe1-4504-843c-f9cd3051a46b",
   "metadata": {},
   "source": [
    "## 3.构建并训练Log-Linear模型"
   ]
  },
  {
   "cell_type": "code",
   "execution_count": 70,
   "id": "b14e4ea6-f817-45bf-8020-e7eee17f328b",
   "metadata": {},
   "outputs": [],
   "source": [
    "class LogLinearModel:\n",
    "    def __init__(self, n_features, n_classes):\n",
    "        self.n_features = n_features\n",
    "        self.n_classes = n_classes\n",
    "        self.weights = np.zeros((n_classes, n_features))\n",
    "\n",
    "    def train(self, X, y, lr=0.01, epochs=20, batch_size=64):\n",
    "        n_samples = X.shape[0]\n",
    "        for epoch in tqdm(range(epochs)):\n",
    "            batch_losses = []\n",
    "            shuffled_indices = np.random.permutation(n_samples)\n",
    "            for start_index in tqdm(range(0, n_samples, batch_size), leave=False):\n",
    "                end_index = min(start_index + batch_size, n_samples)\n",
    "                batch_indices = shuffled_indices[start_index:end_index]\n",
    "\n",
    "                batch_X = X[batch_indices].toarray()\n",
    "                batch_y = y[batch_indices]\n",
    "\n",
    "                scores = batch_X.dot(self.weights.T)\n",
    "                probs = self._softmax(scores)\n",
    "\n",
    "                loss = self._cross_entropy(probs, batch_y)\n",
    "                batch_losses.append(loss)\n",
    "\n",
    "                delta = (probs - batch_y).T.dot(batch_X)\n",
    "                self.weights -= lr * delta\n",
    "\n",
    "            epoch_loss = np.mean(batch_losses)\n",
    "            print(f\"Epoch {epoch+1}/{epochs}, Loss: {epoch_loss:.4f}\")\n",
    "\n",
    "    def predict(self, X):\n",
    "        scores = X.dot(self.weights.T)\n",
    "        probs = self._softmax(scores)\n",
    "        return np.argmax(probs, axis=1)\n",
    "\n",
    "    def _softmax(self, x):\n",
    "        exp_x = np.exp(x - np.max(x, axis=1, keepdims=True))\n",
    "        return exp_x / exp_x.sum(axis=1, keepdims=True)\n",
    "\n",
    "    def _cross_entropy(self, probs, y_true):\n",
    "        log_probs = -np.log(probs[range(len(probs)), np.argmax(y_true, axis=1)])\n",
    "        return np.mean(log_probs)\n",
    "\n",
    "    def save(self, filepath):\n",
    "        with open(filepath, \"wb\") as f:\n",
    "            pickle.dump(self, f)\n",
    "\n",
    "    @staticmethod\n",
    "    def load(filepath):\n",
    "        with open(filepath, \"rb\") as f:\n",
    "            return pickle.load(f)"
   ]
  },
  {
   "cell_type": "code",
   "execution_count": 73,
   "id": "b911ccd1-f24f-4f84-98b5-466c2d557570",
   "metadata": {},
   "outputs": [],
   "source": [
    "y = np.eye(4)[df[\"label\"] - 1]"
   ]
  },
  {
   "cell_type": "code",
   "execution_count": 74,
   "id": "0b4f90f8-5061-4962-a01a-e15619ca1fe0",
   "metadata": {},
   "outputs": [
    {
     "name": "stdout",
     "output_type": "stream",
     "text": [
      "[[0. 0. 1. 0.]\n",
      " [0. 0. 0. 1.]\n",
      " [0. 0. 0. 1.]\n",
      " ...\n",
      " [0. 1. 0. 0.]\n",
      " [0. 0. 1. 0.]\n",
      " [0. 0. 1. 0.]]\n"
     ]
    }
   ],
   "source": [
    "print(y)"
   ]
  },
  {
   "cell_type": "code",
   "execution_count": 100,
   "id": "d9267de8-b7c8-49c3-8d41-849e2ee46eac",
   "metadata": {},
   "outputs": [],
   "source": [
    "X_train, X_val, y_train, y_val = train_test_split(\n",
    "    tf_idf, y, test_size=0.2, random_state=42\n",
    ")"
   ]
  },
  {
   "cell_type": "code",
   "execution_count": 101,
   "id": "3d71f6a8-8e30-467a-964b-fc7603eafa34",
   "metadata": {},
   "outputs": [],
   "source": [
    "model = LogLinearModel(X_train.shape[1], 4)"
   ]
  },
  {
   "cell_type": "code",
   "execution_count": 105,
   "id": "cd8cc446-d5f1-4f3e-9308-ad597a6febf9",
   "metadata": {},
   "outputs": [
    {
     "data": {
      "application/vnd.jupyter.widget-view+json": {
       "model_id": "d950eb797b5841a08f5408e24623459c",
       "version_major": 2,
       "version_minor": 0
      },
      "text/plain": [
       "  0%|          | 0/100 [00:00<?, ?it/s]"
      ]
     },
     "metadata": {},
     "output_type": "display_data"
    },
    {
     "data": {
      "application/vnd.jupyter.widget-view+json": {
       "model_id": "",
       "version_major": 2,
       "version_minor": 0
      },
      "text/plain": [
       "  0%|          | 0/1500 [00:00<?, ?it/s]"
      ]
     },
     "metadata": {},
     "output_type": "display_data"
    },
    {
     "name": "stdout",
     "output_type": "stream",
     "text": [
      "Epoch 1/100, Loss: 0.0375\n"
     ]
    },
    {
     "data": {
      "application/vnd.jupyter.widget-view+json": {
       "model_id": "",
       "version_major": 2,
       "version_minor": 0
      },
      "text/plain": [
       "  0%|          | 0/1500 [00:00<?, ?it/s]"
      ]
     },
     "metadata": {},
     "output_type": "display_data"
    },
    {
     "name": "stdout",
     "output_type": "stream",
     "text": [
      "Epoch 2/100, Loss: 0.0372\n"
     ]
    },
    {
     "data": {
      "application/vnd.jupyter.widget-view+json": {
       "model_id": "",
       "version_major": 2,
       "version_minor": 0
      },
      "text/plain": [
       "  0%|          | 0/1500 [00:00<?, ?it/s]"
      ]
     },
     "metadata": {},
     "output_type": "display_data"
    },
    {
     "name": "stdout",
     "output_type": "stream",
     "text": [
      "Epoch 3/100, Loss: 0.0367\n"
     ]
    },
    {
     "data": {
      "application/vnd.jupyter.widget-view+json": {
       "model_id": "",
       "version_major": 2,
       "version_minor": 0
      },
      "text/plain": [
       "  0%|          | 0/1500 [00:00<?, ?it/s]"
      ]
     },
     "metadata": {},
     "output_type": "display_data"
    },
    {
     "name": "stdout",
     "output_type": "stream",
     "text": [
      "Epoch 4/100, Loss: 0.0365\n"
     ]
    },
    {
     "data": {
      "application/vnd.jupyter.widget-view+json": {
       "model_id": "",
       "version_major": 2,
       "version_minor": 0
      },
      "text/plain": [
       "  0%|          | 0/1500 [00:00<?, ?it/s]"
      ]
     },
     "metadata": {},
     "output_type": "display_data"
    },
    {
     "name": "stdout",
     "output_type": "stream",
     "text": [
      "Epoch 5/100, Loss: 0.0362\n"
     ]
    },
    {
     "data": {
      "application/vnd.jupyter.widget-view+json": {
       "model_id": "",
       "version_major": 2,
       "version_minor": 0
      },
      "text/plain": [
       "  0%|          | 0/1500 [00:00<?, ?it/s]"
      ]
     },
     "metadata": {},
     "output_type": "display_data"
    },
    {
     "name": "stdout",
     "output_type": "stream",
     "text": [
      "Epoch 6/100, Loss: 0.0357\n"
     ]
    },
    {
     "data": {
      "application/vnd.jupyter.widget-view+json": {
       "model_id": "",
       "version_major": 2,
       "version_minor": 0
      },
      "text/plain": [
       "  0%|          | 0/1500 [00:00<?, ?it/s]"
      ]
     },
     "metadata": {},
     "output_type": "display_data"
    },
    {
     "name": "stdout",
     "output_type": "stream",
     "text": [
      "Epoch 7/100, Loss: 0.0354\n"
     ]
    },
    {
     "data": {
      "application/vnd.jupyter.widget-view+json": {
       "model_id": "",
       "version_major": 2,
       "version_minor": 0
      },
      "text/plain": [
       "  0%|          | 0/1500 [00:00<?, ?it/s]"
      ]
     },
     "metadata": {},
     "output_type": "display_data"
    },
    {
     "name": "stdout",
     "output_type": "stream",
     "text": [
      "Epoch 8/100, Loss: 0.0351\n"
     ]
    },
    {
     "data": {
      "application/vnd.jupyter.widget-view+json": {
       "model_id": "",
       "version_major": 2,
       "version_minor": 0
      },
      "text/plain": [
       "  0%|          | 0/1500 [00:00<?, ?it/s]"
      ]
     },
     "metadata": {},
     "output_type": "display_data"
    },
    {
     "name": "stdout",
     "output_type": "stream",
     "text": [
      "Epoch 9/100, Loss: 0.0348\n"
     ]
    },
    {
     "data": {
      "application/vnd.jupyter.widget-view+json": {
       "model_id": "",
       "version_major": 2,
       "version_minor": 0
      },
      "text/plain": [
       "  0%|          | 0/1500 [00:00<?, ?it/s]"
      ]
     },
     "metadata": {},
     "output_type": "display_data"
    },
    {
     "name": "stdout",
     "output_type": "stream",
     "text": [
      "Epoch 10/100, Loss: 0.0345\n"
     ]
    },
    {
     "data": {
      "application/vnd.jupyter.widget-view+json": {
       "model_id": "",
       "version_major": 2,
       "version_minor": 0
      },
      "text/plain": [
       "  0%|          | 0/1500 [00:00<?, ?it/s]"
      ]
     },
     "metadata": {},
     "output_type": "display_data"
    },
    {
     "name": "stdout",
     "output_type": "stream",
     "text": [
      "Epoch 11/100, Loss: 0.0342\n"
     ]
    },
    {
     "data": {
      "application/vnd.jupyter.widget-view+json": {
       "model_id": "",
       "version_major": 2,
       "version_minor": 0
      },
      "text/plain": [
       "  0%|          | 0/1500 [00:00<?, ?it/s]"
      ]
     },
     "metadata": {},
     "output_type": "display_data"
    },
    {
     "name": "stdout",
     "output_type": "stream",
     "text": [
      "Epoch 12/100, Loss: 0.0339\n"
     ]
    },
    {
     "data": {
      "application/vnd.jupyter.widget-view+json": {
       "model_id": "",
       "version_major": 2,
       "version_minor": 0
      },
      "text/plain": [
       "  0%|          | 0/1500 [00:00<?, ?it/s]"
      ]
     },
     "metadata": {},
     "output_type": "display_data"
    },
    {
     "name": "stdout",
     "output_type": "stream",
     "text": [
      "Epoch 13/100, Loss: 0.0336\n"
     ]
    },
    {
     "data": {
      "application/vnd.jupyter.widget-view+json": {
       "model_id": "",
       "version_major": 2,
       "version_minor": 0
      },
      "text/plain": [
       "  0%|          | 0/1500 [00:00<?, ?it/s]"
      ]
     },
     "metadata": {},
     "output_type": "display_data"
    },
    {
     "name": "stdout",
     "output_type": "stream",
     "text": [
      "Epoch 14/100, Loss: 0.0334\n"
     ]
    },
    {
     "data": {
      "application/vnd.jupyter.widget-view+json": {
       "model_id": "",
       "version_major": 2,
       "version_minor": 0
      },
      "text/plain": [
       "  0%|          | 0/1500 [00:00<?, ?it/s]"
      ]
     },
     "metadata": {},
     "output_type": "display_data"
    },
    {
     "name": "stdout",
     "output_type": "stream",
     "text": [
      "Epoch 15/100, Loss: 0.0330\n"
     ]
    },
    {
     "data": {
      "application/vnd.jupyter.widget-view+json": {
       "model_id": "",
       "version_major": 2,
       "version_minor": 0
      },
      "text/plain": [
       "  0%|          | 0/1500 [00:00<?, ?it/s]"
      ]
     },
     "metadata": {},
     "output_type": "display_data"
    },
    {
     "name": "stdout",
     "output_type": "stream",
     "text": [
      "Epoch 16/100, Loss: 0.0327\n"
     ]
    },
    {
     "data": {
      "application/vnd.jupyter.widget-view+json": {
       "model_id": "",
       "version_major": 2,
       "version_minor": 0
      },
      "text/plain": [
       "  0%|          | 0/1500 [00:00<?, ?it/s]"
      ]
     },
     "metadata": {},
     "output_type": "display_data"
    },
    {
     "name": "stdout",
     "output_type": "stream",
     "text": [
      "Epoch 17/100, Loss: 0.0325\n"
     ]
    },
    {
     "data": {
      "application/vnd.jupyter.widget-view+json": {
       "model_id": "",
       "version_major": 2,
       "version_minor": 0
      },
      "text/plain": [
       "  0%|          | 0/1500 [00:00<?, ?it/s]"
      ]
     },
     "metadata": {},
     "output_type": "display_data"
    },
    {
     "name": "stdout",
     "output_type": "stream",
     "text": [
      "Epoch 18/100, Loss: 0.0321\n"
     ]
    },
    {
     "data": {
      "application/vnd.jupyter.widget-view+json": {
       "model_id": "",
       "version_major": 2,
       "version_minor": 0
      },
      "text/plain": [
       "  0%|          | 0/1500 [00:00<?, ?it/s]"
      ]
     },
     "metadata": {},
     "output_type": "display_data"
    },
    {
     "name": "stdout",
     "output_type": "stream",
     "text": [
      "Epoch 19/100, Loss: 0.0320\n"
     ]
    },
    {
     "data": {
      "application/vnd.jupyter.widget-view+json": {
       "model_id": "",
       "version_major": 2,
       "version_minor": 0
      },
      "text/plain": [
       "  0%|          | 0/1500 [00:00<?, ?it/s]"
      ]
     },
     "metadata": {},
     "output_type": "display_data"
    },
    {
     "name": "stdout",
     "output_type": "stream",
     "text": [
      "Epoch 20/100, Loss: 0.0317\n"
     ]
    },
    {
     "data": {
      "application/vnd.jupyter.widget-view+json": {
       "model_id": "",
       "version_major": 2,
       "version_minor": 0
      },
      "text/plain": [
       "  0%|          | 0/1500 [00:00<?, ?it/s]"
      ]
     },
     "metadata": {},
     "output_type": "display_data"
    },
    {
     "name": "stdout",
     "output_type": "stream",
     "text": [
      "Epoch 21/100, Loss: 0.0315\n"
     ]
    },
    {
     "data": {
      "application/vnd.jupyter.widget-view+json": {
       "model_id": "",
       "version_major": 2,
       "version_minor": 0
      },
      "text/plain": [
       "  0%|          | 0/1500 [00:00<?, ?it/s]"
      ]
     },
     "metadata": {},
     "output_type": "display_data"
    },
    {
     "name": "stdout",
     "output_type": "stream",
     "text": [
      "Epoch 22/100, Loss: 0.0313\n"
     ]
    },
    {
     "data": {
      "application/vnd.jupyter.widget-view+json": {
       "model_id": "",
       "version_major": 2,
       "version_minor": 0
      },
      "text/plain": [
       "  0%|          | 0/1500 [00:00<?, ?it/s]"
      ]
     },
     "metadata": {},
     "output_type": "display_data"
    },
    {
     "name": "stdout",
     "output_type": "stream",
     "text": [
      "Epoch 23/100, Loss: 0.0309\n"
     ]
    },
    {
     "data": {
      "application/vnd.jupyter.widget-view+json": {
       "model_id": "",
       "version_major": 2,
       "version_minor": 0
      },
      "text/plain": [
       "  0%|          | 0/1500 [00:00<?, ?it/s]"
      ]
     },
     "metadata": {},
     "output_type": "display_data"
    },
    {
     "name": "stdout",
     "output_type": "stream",
     "text": [
      "Epoch 24/100, Loss: 0.0308\n"
     ]
    },
    {
     "data": {
      "application/vnd.jupyter.widget-view+json": {
       "model_id": "",
       "version_major": 2,
       "version_minor": 0
      },
      "text/plain": [
       "  0%|          | 0/1500 [00:00<?, ?it/s]"
      ]
     },
     "metadata": {},
     "output_type": "display_data"
    },
    {
     "name": "stdout",
     "output_type": "stream",
     "text": [
      "Epoch 25/100, Loss: 0.0306\n"
     ]
    },
    {
     "data": {
      "application/vnd.jupyter.widget-view+json": {
       "model_id": "",
       "version_major": 2,
       "version_minor": 0
      },
      "text/plain": [
       "  0%|          | 0/1500 [00:00<?, ?it/s]"
      ]
     },
     "metadata": {},
     "output_type": "display_data"
    },
    {
     "name": "stdout",
     "output_type": "stream",
     "text": [
      "Epoch 26/100, Loss: 0.0303\n"
     ]
    },
    {
     "data": {
      "application/vnd.jupyter.widget-view+json": {
       "model_id": "",
       "version_major": 2,
       "version_minor": 0
      },
      "text/plain": [
       "  0%|          | 0/1500 [00:00<?, ?it/s]"
      ]
     },
     "metadata": {},
     "output_type": "display_data"
    },
    {
     "name": "stdout",
     "output_type": "stream",
     "text": [
      "Epoch 27/100, Loss: 0.0301\n"
     ]
    },
    {
     "data": {
      "application/vnd.jupyter.widget-view+json": {
       "model_id": "",
       "version_major": 2,
       "version_minor": 0
      },
      "text/plain": [
       "  0%|          | 0/1500 [00:00<?, ?it/s]"
      ]
     },
     "metadata": {},
     "output_type": "display_data"
    },
    {
     "name": "stdout",
     "output_type": "stream",
     "text": [
      "Epoch 28/100, Loss: 0.0299\n"
     ]
    },
    {
     "data": {
      "application/vnd.jupyter.widget-view+json": {
       "model_id": "",
       "version_major": 2,
       "version_minor": 0
      },
      "text/plain": [
       "  0%|          | 0/1500 [00:00<?, ?it/s]"
      ]
     },
     "metadata": {},
     "output_type": "display_data"
    },
    {
     "name": "stdout",
     "output_type": "stream",
     "text": [
      "Epoch 29/100, Loss: 0.0297\n"
     ]
    },
    {
     "data": {
      "application/vnd.jupyter.widget-view+json": {
       "model_id": "",
       "version_major": 2,
       "version_minor": 0
      },
      "text/plain": [
       "  0%|          | 0/1500 [00:00<?, ?it/s]"
      ]
     },
     "metadata": {},
     "output_type": "display_data"
    },
    {
     "name": "stdout",
     "output_type": "stream",
     "text": [
      "Epoch 30/100, Loss: 0.0295\n"
     ]
    },
    {
     "data": {
      "application/vnd.jupyter.widget-view+json": {
       "model_id": "",
       "version_major": 2,
       "version_minor": 0
      },
      "text/plain": [
       "  0%|          | 0/1500 [00:00<?, ?it/s]"
      ]
     },
     "metadata": {},
     "output_type": "display_data"
    },
    {
     "name": "stdout",
     "output_type": "stream",
     "text": [
      "Epoch 31/100, Loss: 0.0294\n"
     ]
    },
    {
     "data": {
      "application/vnd.jupyter.widget-view+json": {
       "model_id": "",
       "version_major": 2,
       "version_minor": 0
      },
      "text/plain": [
       "  0%|          | 0/1500 [00:00<?, ?it/s]"
      ]
     },
     "metadata": {},
     "output_type": "display_data"
    },
    {
     "name": "stdout",
     "output_type": "stream",
     "text": [
      "Epoch 32/100, Loss: 0.0290\n"
     ]
    },
    {
     "data": {
      "application/vnd.jupyter.widget-view+json": {
       "model_id": "",
       "version_major": 2,
       "version_minor": 0
      },
      "text/plain": [
       "  0%|          | 0/1500 [00:00<?, ?it/s]"
      ]
     },
     "metadata": {},
     "output_type": "display_data"
    },
    {
     "name": "stdout",
     "output_type": "stream",
     "text": [
      "Epoch 33/100, Loss: 0.0288\n"
     ]
    },
    {
     "data": {
      "application/vnd.jupyter.widget-view+json": {
       "model_id": "",
       "version_major": 2,
       "version_minor": 0
      },
      "text/plain": [
       "  0%|          | 0/1500 [00:00<?, ?it/s]"
      ]
     },
     "metadata": {},
     "output_type": "display_data"
    },
    {
     "name": "stdout",
     "output_type": "stream",
     "text": [
      "Epoch 34/100, Loss: 0.0287\n"
     ]
    },
    {
     "data": {
      "application/vnd.jupyter.widget-view+json": {
       "model_id": "",
       "version_major": 2,
       "version_minor": 0
      },
      "text/plain": [
       "  0%|          | 0/1500 [00:00<?, ?it/s]"
      ]
     },
     "metadata": {},
     "output_type": "display_data"
    },
    {
     "name": "stdout",
     "output_type": "stream",
     "text": [
      "Epoch 35/100, Loss: 0.0285\n"
     ]
    },
    {
     "data": {
      "application/vnd.jupyter.widget-view+json": {
       "model_id": "",
       "version_major": 2,
       "version_minor": 0
      },
      "text/plain": [
       "  0%|          | 0/1500 [00:00<?, ?it/s]"
      ]
     },
     "metadata": {},
     "output_type": "display_data"
    },
    {
     "name": "stdout",
     "output_type": "stream",
     "text": [
      "Epoch 36/100, Loss: 0.0284\n"
     ]
    },
    {
     "data": {
      "application/vnd.jupyter.widget-view+json": {
       "model_id": "",
       "version_major": 2,
       "version_minor": 0
      },
      "text/plain": [
       "  0%|          | 0/1500 [00:00<?, ?it/s]"
      ]
     },
     "metadata": {},
     "output_type": "display_data"
    },
    {
     "name": "stdout",
     "output_type": "stream",
     "text": [
      "Epoch 37/100, Loss: 0.0281\n"
     ]
    },
    {
     "data": {
      "application/vnd.jupyter.widget-view+json": {
       "model_id": "",
       "version_major": 2,
       "version_minor": 0
      },
      "text/plain": [
       "  0%|          | 0/1500 [00:00<?, ?it/s]"
      ]
     },
     "metadata": {},
     "output_type": "display_data"
    },
    {
     "name": "stdout",
     "output_type": "stream",
     "text": [
      "Epoch 38/100, Loss: 0.0279\n"
     ]
    },
    {
     "data": {
      "application/vnd.jupyter.widget-view+json": {
       "model_id": "",
       "version_major": 2,
       "version_minor": 0
      },
      "text/plain": [
       "  0%|          | 0/1500 [00:00<?, ?it/s]"
      ]
     },
     "metadata": {},
     "output_type": "display_data"
    },
    {
     "name": "stdout",
     "output_type": "stream",
     "text": [
      "Epoch 39/100, Loss: 0.0278\n"
     ]
    },
    {
     "data": {
      "application/vnd.jupyter.widget-view+json": {
       "model_id": "",
       "version_major": 2,
       "version_minor": 0
      },
      "text/plain": [
       "  0%|          | 0/1500 [00:00<?, ?it/s]"
      ]
     },
     "metadata": {},
     "output_type": "display_data"
    },
    {
     "name": "stdout",
     "output_type": "stream",
     "text": [
      "Epoch 40/100, Loss: 0.0276\n"
     ]
    },
    {
     "data": {
      "application/vnd.jupyter.widget-view+json": {
       "model_id": "",
       "version_major": 2,
       "version_minor": 0
      },
      "text/plain": [
       "  0%|          | 0/1500 [00:00<?, ?it/s]"
      ]
     },
     "metadata": {},
     "output_type": "display_data"
    },
    {
     "name": "stdout",
     "output_type": "stream",
     "text": [
      "Epoch 41/100, Loss: 0.0274\n"
     ]
    },
    {
     "data": {
      "application/vnd.jupyter.widget-view+json": {
       "model_id": "",
       "version_major": 2,
       "version_minor": 0
      },
      "text/plain": [
       "  0%|          | 0/1500 [00:00<?, ?it/s]"
      ]
     },
     "metadata": {},
     "output_type": "display_data"
    },
    {
     "name": "stdout",
     "output_type": "stream",
     "text": [
      "Epoch 42/100, Loss: 0.0273\n"
     ]
    },
    {
     "data": {
      "application/vnd.jupyter.widget-view+json": {
       "model_id": "",
       "version_major": 2,
       "version_minor": 0
      },
      "text/plain": [
       "  0%|          | 0/1500 [00:00<?, ?it/s]"
      ]
     },
     "metadata": {},
     "output_type": "display_data"
    },
    {
     "name": "stdout",
     "output_type": "stream",
     "text": [
      "Epoch 43/100, Loss: 0.0271\n"
     ]
    },
    {
     "data": {
      "application/vnd.jupyter.widget-view+json": {
       "model_id": "",
       "version_major": 2,
       "version_minor": 0
      },
      "text/plain": [
       "  0%|          | 0/1500 [00:00<?, ?it/s]"
      ]
     },
     "metadata": {},
     "output_type": "display_data"
    },
    {
     "name": "stdout",
     "output_type": "stream",
     "text": [
      "Epoch 44/100, Loss: 0.0270\n"
     ]
    },
    {
     "data": {
      "application/vnd.jupyter.widget-view+json": {
       "model_id": "",
       "version_major": 2,
       "version_minor": 0
      },
      "text/plain": [
       "  0%|          | 0/1500 [00:00<?, ?it/s]"
      ]
     },
     "metadata": {},
     "output_type": "display_data"
    },
    {
     "name": "stdout",
     "output_type": "stream",
     "text": [
      "Epoch 45/100, Loss: 0.0268\n"
     ]
    },
    {
     "data": {
      "application/vnd.jupyter.widget-view+json": {
       "model_id": "",
       "version_major": 2,
       "version_minor": 0
      },
      "text/plain": [
       "  0%|          | 0/1500 [00:00<?, ?it/s]"
      ]
     },
     "metadata": {},
     "output_type": "display_data"
    },
    {
     "name": "stdout",
     "output_type": "stream",
     "text": [
      "Epoch 46/100, Loss: 0.0266\n"
     ]
    },
    {
     "data": {
      "application/vnd.jupyter.widget-view+json": {
       "model_id": "",
       "version_major": 2,
       "version_minor": 0
      },
      "text/plain": [
       "  0%|          | 0/1500 [00:00<?, ?it/s]"
      ]
     },
     "metadata": {},
     "output_type": "display_data"
    },
    {
     "name": "stdout",
     "output_type": "stream",
     "text": [
      "Epoch 47/100, Loss: 0.0264\n"
     ]
    },
    {
     "data": {
      "application/vnd.jupyter.widget-view+json": {
       "model_id": "",
       "version_major": 2,
       "version_minor": 0
      },
      "text/plain": [
       "  0%|          | 0/1500 [00:00<?, ?it/s]"
      ]
     },
     "metadata": {},
     "output_type": "display_data"
    },
    {
     "name": "stdout",
     "output_type": "stream",
     "text": [
      "Epoch 48/100, Loss: 0.0264\n"
     ]
    },
    {
     "data": {
      "application/vnd.jupyter.widget-view+json": {
       "model_id": "",
       "version_major": 2,
       "version_minor": 0
      },
      "text/plain": [
       "  0%|          | 0/1500 [00:00<?, ?it/s]"
      ]
     },
     "metadata": {},
     "output_type": "display_data"
    },
    {
     "name": "stdout",
     "output_type": "stream",
     "text": [
      "Epoch 49/100, Loss: 0.0262\n"
     ]
    },
    {
     "data": {
      "application/vnd.jupyter.widget-view+json": {
       "model_id": "",
       "version_major": 2,
       "version_minor": 0
      },
      "text/plain": [
       "  0%|          | 0/1500 [00:00<?, ?it/s]"
      ]
     },
     "metadata": {},
     "output_type": "display_data"
    },
    {
     "name": "stdout",
     "output_type": "stream",
     "text": [
      "Epoch 50/100, Loss: 0.0260\n"
     ]
    },
    {
     "data": {
      "application/vnd.jupyter.widget-view+json": {
       "model_id": "",
       "version_major": 2,
       "version_minor": 0
      },
      "text/plain": [
       "  0%|          | 0/1500 [00:00<?, ?it/s]"
      ]
     },
     "metadata": {},
     "output_type": "display_data"
    },
    {
     "name": "stdout",
     "output_type": "stream",
     "text": [
      "Epoch 51/100, Loss: 0.0258\n"
     ]
    },
    {
     "data": {
      "application/vnd.jupyter.widget-view+json": {
       "model_id": "",
       "version_major": 2,
       "version_minor": 0
      },
      "text/plain": [
       "  0%|          | 0/1500 [00:00<?, ?it/s]"
      ]
     },
     "metadata": {},
     "output_type": "display_data"
    },
    {
     "name": "stdout",
     "output_type": "stream",
     "text": [
      "Epoch 52/100, Loss: 0.0258\n"
     ]
    },
    {
     "data": {
      "application/vnd.jupyter.widget-view+json": {
       "model_id": "",
       "version_major": 2,
       "version_minor": 0
      },
      "text/plain": [
       "  0%|          | 0/1500 [00:00<?, ?it/s]"
      ]
     },
     "metadata": {},
     "output_type": "display_data"
    },
    {
     "name": "stdout",
     "output_type": "stream",
     "text": [
      "Epoch 53/100, Loss: 0.0256\n"
     ]
    },
    {
     "data": {
      "application/vnd.jupyter.widget-view+json": {
       "model_id": "",
       "version_major": 2,
       "version_minor": 0
      },
      "text/plain": [
       "  0%|          | 0/1500 [00:00<?, ?it/s]"
      ]
     },
     "metadata": {},
     "output_type": "display_data"
    },
    {
     "name": "stdout",
     "output_type": "stream",
     "text": [
      "Epoch 54/100, Loss: 0.0255\n"
     ]
    },
    {
     "data": {
      "application/vnd.jupyter.widget-view+json": {
       "model_id": "",
       "version_major": 2,
       "version_minor": 0
      },
      "text/plain": [
       "  0%|          | 0/1500 [00:00<?, ?it/s]"
      ]
     },
     "metadata": {},
     "output_type": "display_data"
    },
    {
     "name": "stdout",
     "output_type": "stream",
     "text": [
      "Epoch 55/100, Loss: 0.0253\n"
     ]
    },
    {
     "data": {
      "application/vnd.jupyter.widget-view+json": {
       "model_id": "",
       "version_major": 2,
       "version_minor": 0
      },
      "text/plain": [
       "  0%|          | 0/1500 [00:00<?, ?it/s]"
      ]
     },
     "metadata": {},
     "output_type": "display_data"
    },
    {
     "name": "stdout",
     "output_type": "stream",
     "text": [
      "Epoch 56/100, Loss: 0.0252\n"
     ]
    },
    {
     "data": {
      "application/vnd.jupyter.widget-view+json": {
       "model_id": "",
       "version_major": 2,
       "version_minor": 0
      },
      "text/plain": [
       "  0%|          | 0/1500 [00:00<?, ?it/s]"
      ]
     },
     "metadata": {},
     "output_type": "display_data"
    },
    {
     "name": "stdout",
     "output_type": "stream",
     "text": [
      "Epoch 57/100, Loss: 0.0251\n"
     ]
    },
    {
     "data": {
      "application/vnd.jupyter.widget-view+json": {
       "model_id": "",
       "version_major": 2,
       "version_minor": 0
      },
      "text/plain": [
       "  0%|          | 0/1500 [00:00<?, ?it/s]"
      ]
     },
     "metadata": {},
     "output_type": "display_data"
    },
    {
     "name": "stdout",
     "output_type": "stream",
     "text": [
      "Epoch 58/100, Loss: 0.0249\n"
     ]
    },
    {
     "data": {
      "application/vnd.jupyter.widget-view+json": {
       "model_id": "",
       "version_major": 2,
       "version_minor": 0
      },
      "text/plain": [
       "  0%|          | 0/1500 [00:00<?, ?it/s]"
      ]
     },
     "metadata": {},
     "output_type": "display_data"
    },
    {
     "name": "stdout",
     "output_type": "stream",
     "text": [
      "Epoch 59/100, Loss: 0.0248\n"
     ]
    },
    {
     "data": {
      "application/vnd.jupyter.widget-view+json": {
       "model_id": "",
       "version_major": 2,
       "version_minor": 0
      },
      "text/plain": [
       "  0%|          | 0/1500 [00:00<?, ?it/s]"
      ]
     },
     "metadata": {},
     "output_type": "display_data"
    },
    {
     "name": "stdout",
     "output_type": "stream",
     "text": [
      "Epoch 60/100, Loss: 0.0246\n"
     ]
    },
    {
     "data": {
      "application/vnd.jupyter.widget-view+json": {
       "model_id": "",
       "version_major": 2,
       "version_minor": 0
      },
      "text/plain": [
       "  0%|          | 0/1500 [00:00<?, ?it/s]"
      ]
     },
     "metadata": {},
     "output_type": "display_data"
    },
    {
     "name": "stdout",
     "output_type": "stream",
     "text": [
      "Epoch 61/100, Loss: 0.0245\n"
     ]
    },
    {
     "data": {
      "application/vnd.jupyter.widget-view+json": {
       "model_id": "",
       "version_major": 2,
       "version_minor": 0
      },
      "text/plain": [
       "  0%|          | 0/1500 [00:00<?, ?it/s]"
      ]
     },
     "metadata": {},
     "output_type": "display_data"
    },
    {
     "name": "stdout",
     "output_type": "stream",
     "text": [
      "Epoch 62/100, Loss: 0.0244\n"
     ]
    },
    {
     "data": {
      "application/vnd.jupyter.widget-view+json": {
       "model_id": "",
       "version_major": 2,
       "version_minor": 0
      },
      "text/plain": [
       "  0%|          | 0/1500 [00:00<?, ?it/s]"
      ]
     },
     "metadata": {},
     "output_type": "display_data"
    },
    {
     "name": "stdout",
     "output_type": "stream",
     "text": [
      "Epoch 63/100, Loss: 0.0242\n"
     ]
    },
    {
     "data": {
      "application/vnd.jupyter.widget-view+json": {
       "model_id": "",
       "version_major": 2,
       "version_minor": 0
      },
      "text/plain": [
       "  0%|          | 0/1500 [00:00<?, ?it/s]"
      ]
     },
     "metadata": {},
     "output_type": "display_data"
    },
    {
     "name": "stdout",
     "output_type": "stream",
     "text": [
      "Epoch 64/100, Loss: 0.0242\n"
     ]
    },
    {
     "data": {
      "application/vnd.jupyter.widget-view+json": {
       "model_id": "",
       "version_major": 2,
       "version_minor": 0
      },
      "text/plain": [
       "  0%|          | 0/1500 [00:00<?, ?it/s]"
      ]
     },
     "metadata": {},
     "output_type": "display_data"
    },
    {
     "name": "stdout",
     "output_type": "stream",
     "text": [
      "Epoch 65/100, Loss: 0.0240\n"
     ]
    },
    {
     "data": {
      "application/vnd.jupyter.widget-view+json": {
       "model_id": "",
       "version_major": 2,
       "version_minor": 0
      },
      "text/plain": [
       "  0%|          | 0/1500 [00:00<?, ?it/s]"
      ]
     },
     "metadata": {},
     "output_type": "display_data"
    },
    {
     "name": "stdout",
     "output_type": "stream",
     "text": [
      "Epoch 66/100, Loss: 0.0239\n"
     ]
    },
    {
     "data": {
      "application/vnd.jupyter.widget-view+json": {
       "model_id": "",
       "version_major": 2,
       "version_minor": 0
      },
      "text/plain": [
       "  0%|          | 0/1500 [00:00<?, ?it/s]"
      ]
     },
     "metadata": {},
     "output_type": "display_data"
    },
    {
     "name": "stdout",
     "output_type": "stream",
     "text": [
      "Epoch 67/100, Loss: 0.0238\n"
     ]
    },
    {
     "data": {
      "application/vnd.jupyter.widget-view+json": {
       "model_id": "",
       "version_major": 2,
       "version_minor": 0
      },
      "text/plain": [
       "  0%|          | 0/1500 [00:00<?, ?it/s]"
      ]
     },
     "metadata": {},
     "output_type": "display_data"
    },
    {
     "name": "stdout",
     "output_type": "stream",
     "text": [
      "Epoch 68/100, Loss: 0.0238\n"
     ]
    },
    {
     "data": {
      "application/vnd.jupyter.widget-view+json": {
       "model_id": "",
       "version_major": 2,
       "version_minor": 0
      },
      "text/plain": [
       "  0%|          | 0/1500 [00:00<?, ?it/s]"
      ]
     },
     "metadata": {},
     "output_type": "display_data"
    },
    {
     "name": "stdout",
     "output_type": "stream",
     "text": [
      "Epoch 69/100, Loss: 0.0237\n"
     ]
    },
    {
     "data": {
      "application/vnd.jupyter.widget-view+json": {
       "model_id": "",
       "version_major": 2,
       "version_minor": 0
      },
      "text/plain": [
       "  0%|          | 0/1500 [00:00<?, ?it/s]"
      ]
     },
     "metadata": {},
     "output_type": "display_data"
    },
    {
     "name": "stdout",
     "output_type": "stream",
     "text": [
      "Epoch 70/100, Loss: 0.0236\n"
     ]
    },
    {
     "data": {
      "application/vnd.jupyter.widget-view+json": {
       "model_id": "",
       "version_major": 2,
       "version_minor": 0
      },
      "text/plain": [
       "  0%|          | 0/1500 [00:00<?, ?it/s]"
      ]
     },
     "metadata": {},
     "output_type": "display_data"
    },
    {
     "name": "stdout",
     "output_type": "stream",
     "text": [
      "Epoch 71/100, Loss: 0.0234\n"
     ]
    },
    {
     "data": {
      "application/vnd.jupyter.widget-view+json": {
       "model_id": "",
       "version_major": 2,
       "version_minor": 0
      },
      "text/plain": [
       "  0%|          | 0/1500 [00:00<?, ?it/s]"
      ]
     },
     "metadata": {},
     "output_type": "display_data"
    },
    {
     "name": "stdout",
     "output_type": "stream",
     "text": [
      "Epoch 72/100, Loss: 0.0232\n"
     ]
    },
    {
     "data": {
      "application/vnd.jupyter.widget-view+json": {
       "model_id": "",
       "version_major": 2,
       "version_minor": 0
      },
      "text/plain": [
       "  0%|          | 0/1500 [00:00<?, ?it/s]"
      ]
     },
     "metadata": {},
     "output_type": "display_data"
    },
    {
     "name": "stdout",
     "output_type": "stream",
     "text": [
      "Epoch 73/100, Loss: 0.0232\n"
     ]
    },
    {
     "data": {
      "application/vnd.jupyter.widget-view+json": {
       "model_id": "",
       "version_major": 2,
       "version_minor": 0
      },
      "text/plain": [
       "  0%|          | 0/1500 [00:00<?, ?it/s]"
      ]
     },
     "metadata": {},
     "output_type": "display_data"
    },
    {
     "name": "stdout",
     "output_type": "stream",
     "text": [
      "Epoch 74/100, Loss: 0.0231\n"
     ]
    },
    {
     "data": {
      "application/vnd.jupyter.widget-view+json": {
       "model_id": "",
       "version_major": 2,
       "version_minor": 0
      },
      "text/plain": [
       "  0%|          | 0/1500 [00:00<?, ?it/s]"
      ]
     },
     "metadata": {},
     "output_type": "display_data"
    },
    {
     "name": "stdout",
     "output_type": "stream",
     "text": [
      "Epoch 75/100, Loss: 0.0230\n"
     ]
    },
    {
     "data": {
      "application/vnd.jupyter.widget-view+json": {
       "model_id": "",
       "version_major": 2,
       "version_minor": 0
      },
      "text/plain": [
       "  0%|          | 0/1500 [00:00<?, ?it/s]"
      ]
     },
     "metadata": {},
     "output_type": "display_data"
    },
    {
     "name": "stdout",
     "output_type": "stream",
     "text": [
      "Epoch 76/100, Loss: 0.0228\n"
     ]
    },
    {
     "data": {
      "application/vnd.jupyter.widget-view+json": {
       "model_id": "",
       "version_major": 2,
       "version_minor": 0
      },
      "text/plain": [
       "  0%|          | 0/1500 [00:00<?, ?it/s]"
      ]
     },
     "metadata": {},
     "output_type": "display_data"
    },
    {
     "name": "stdout",
     "output_type": "stream",
     "text": [
      "Epoch 77/100, Loss: 0.0227\n"
     ]
    },
    {
     "data": {
      "application/vnd.jupyter.widget-view+json": {
       "model_id": "",
       "version_major": 2,
       "version_minor": 0
      },
      "text/plain": [
       "  0%|          | 0/1500 [00:00<?, ?it/s]"
      ]
     },
     "metadata": {},
     "output_type": "display_data"
    },
    {
     "name": "stdout",
     "output_type": "stream",
     "text": [
      "Epoch 78/100, Loss: 0.0226\n"
     ]
    },
    {
     "data": {
      "application/vnd.jupyter.widget-view+json": {
       "model_id": "",
       "version_major": 2,
       "version_minor": 0
      },
      "text/plain": [
       "  0%|          | 0/1500 [00:00<?, ?it/s]"
      ]
     },
     "metadata": {},
     "output_type": "display_data"
    },
    {
     "name": "stdout",
     "output_type": "stream",
     "text": [
      "Epoch 79/100, Loss: 0.0225\n"
     ]
    },
    {
     "data": {
      "application/vnd.jupyter.widget-view+json": {
       "model_id": "",
       "version_major": 2,
       "version_minor": 0
      },
      "text/plain": [
       "  0%|          | 0/1500 [00:00<?, ?it/s]"
      ]
     },
     "metadata": {},
     "output_type": "display_data"
    },
    {
     "name": "stdout",
     "output_type": "stream",
     "text": [
      "Epoch 80/100, Loss: 0.0224\n"
     ]
    },
    {
     "data": {
      "application/vnd.jupyter.widget-view+json": {
       "model_id": "",
       "version_major": 2,
       "version_minor": 0
      },
      "text/plain": [
       "  0%|          | 0/1500 [00:00<?, ?it/s]"
      ]
     },
     "metadata": {},
     "output_type": "display_data"
    },
    {
     "name": "stdout",
     "output_type": "stream",
     "text": [
      "Epoch 81/100, Loss: 0.0224\n"
     ]
    },
    {
     "data": {
      "application/vnd.jupyter.widget-view+json": {
       "model_id": "",
       "version_major": 2,
       "version_minor": 0
      },
      "text/plain": [
       "  0%|          | 0/1500 [00:00<?, ?it/s]"
      ]
     },
     "metadata": {},
     "output_type": "display_data"
    },
    {
     "name": "stdout",
     "output_type": "stream",
     "text": [
      "Epoch 82/100, Loss: 0.0222\n"
     ]
    },
    {
     "data": {
      "application/vnd.jupyter.widget-view+json": {
       "model_id": "",
       "version_major": 2,
       "version_minor": 0
      },
      "text/plain": [
       "  0%|          | 0/1500 [00:00<?, ?it/s]"
      ]
     },
     "metadata": {},
     "output_type": "display_data"
    },
    {
     "name": "stdout",
     "output_type": "stream",
     "text": [
      "Epoch 83/100, Loss: 0.0222\n"
     ]
    },
    {
     "data": {
      "application/vnd.jupyter.widget-view+json": {
       "model_id": "",
       "version_major": 2,
       "version_minor": 0
      },
      "text/plain": [
       "  0%|          | 0/1500 [00:00<?, ?it/s]"
      ]
     },
     "metadata": {},
     "output_type": "display_data"
    },
    {
     "name": "stdout",
     "output_type": "stream",
     "text": [
      "Epoch 84/100, Loss: 0.0220\n"
     ]
    },
    {
     "data": {
      "application/vnd.jupyter.widget-view+json": {
       "model_id": "",
       "version_major": 2,
       "version_minor": 0
      },
      "text/plain": [
       "  0%|          | 0/1500 [00:00<?, ?it/s]"
      ]
     },
     "metadata": {},
     "output_type": "display_data"
    },
    {
     "name": "stdout",
     "output_type": "stream",
     "text": [
      "Epoch 85/100, Loss: 0.0221\n"
     ]
    },
    {
     "data": {
      "application/vnd.jupyter.widget-view+json": {
       "model_id": "",
       "version_major": 2,
       "version_minor": 0
      },
      "text/plain": [
       "  0%|          | 0/1500 [00:00<?, ?it/s]"
      ]
     },
     "metadata": {},
     "output_type": "display_data"
    },
    {
     "name": "stdout",
     "output_type": "stream",
     "text": [
      "Epoch 86/100, Loss: 0.0219\n"
     ]
    },
    {
     "data": {
      "application/vnd.jupyter.widget-view+json": {
       "model_id": "",
       "version_major": 2,
       "version_minor": 0
      },
      "text/plain": [
       "  0%|          | 0/1500 [00:00<?, ?it/s]"
      ]
     },
     "metadata": {},
     "output_type": "display_data"
    },
    {
     "name": "stdout",
     "output_type": "stream",
     "text": [
      "Epoch 87/100, Loss: 0.0217\n"
     ]
    },
    {
     "data": {
      "application/vnd.jupyter.widget-view+json": {
       "model_id": "",
       "version_major": 2,
       "version_minor": 0
      },
      "text/plain": [
       "  0%|          | 0/1500 [00:00<?, ?it/s]"
      ]
     },
     "metadata": {},
     "output_type": "display_data"
    },
    {
     "name": "stdout",
     "output_type": "stream",
     "text": [
      "Epoch 88/100, Loss: 0.0217\n"
     ]
    },
    {
     "data": {
      "application/vnd.jupyter.widget-view+json": {
       "model_id": "",
       "version_major": 2,
       "version_minor": 0
      },
      "text/plain": [
       "  0%|          | 0/1500 [00:00<?, ?it/s]"
      ]
     },
     "metadata": {},
     "output_type": "display_data"
    },
    {
     "name": "stdout",
     "output_type": "stream",
     "text": [
      "Epoch 89/100, Loss: 0.0216\n"
     ]
    },
    {
     "data": {
      "application/vnd.jupyter.widget-view+json": {
       "model_id": "",
       "version_major": 2,
       "version_minor": 0
      },
      "text/plain": [
       "  0%|          | 0/1500 [00:00<?, ?it/s]"
      ]
     },
     "metadata": {},
     "output_type": "display_data"
    },
    {
     "name": "stdout",
     "output_type": "stream",
     "text": [
      "Epoch 90/100, Loss: 0.0215\n"
     ]
    },
    {
     "data": {
      "application/vnd.jupyter.widget-view+json": {
       "model_id": "",
       "version_major": 2,
       "version_minor": 0
      },
      "text/plain": [
       "  0%|          | 0/1500 [00:00<?, ?it/s]"
      ]
     },
     "metadata": {},
     "output_type": "display_data"
    },
    {
     "name": "stdout",
     "output_type": "stream",
     "text": [
      "Epoch 91/100, Loss: 0.0214\n"
     ]
    },
    {
     "data": {
      "application/vnd.jupyter.widget-view+json": {
       "model_id": "",
       "version_major": 2,
       "version_minor": 0
      },
      "text/plain": [
       "  0%|          | 0/1500 [00:00<?, ?it/s]"
      ]
     },
     "metadata": {},
     "output_type": "display_data"
    },
    {
     "name": "stdout",
     "output_type": "stream",
     "text": [
      "Epoch 92/100, Loss: 0.0213\n"
     ]
    },
    {
     "data": {
      "application/vnd.jupyter.widget-view+json": {
       "model_id": "",
       "version_major": 2,
       "version_minor": 0
      },
      "text/plain": [
       "  0%|          | 0/1500 [00:00<?, ?it/s]"
      ]
     },
     "metadata": {},
     "output_type": "display_data"
    },
    {
     "name": "stdout",
     "output_type": "stream",
     "text": [
      "Epoch 93/100, Loss: 0.0213\n"
     ]
    },
    {
     "data": {
      "application/vnd.jupyter.widget-view+json": {
       "model_id": "",
       "version_major": 2,
       "version_minor": 0
      },
      "text/plain": [
       "  0%|          | 0/1500 [00:00<?, ?it/s]"
      ]
     },
     "metadata": {},
     "output_type": "display_data"
    },
    {
     "name": "stdout",
     "output_type": "stream",
     "text": [
      "Epoch 94/100, Loss: 0.0211\n"
     ]
    },
    {
     "data": {
      "application/vnd.jupyter.widget-view+json": {
       "model_id": "",
       "version_major": 2,
       "version_minor": 0
      },
      "text/plain": [
       "  0%|          | 0/1500 [00:00<?, ?it/s]"
      ]
     },
     "metadata": {},
     "output_type": "display_data"
    },
    {
     "name": "stdout",
     "output_type": "stream",
     "text": [
      "Epoch 95/100, Loss: 0.0211\n"
     ]
    },
    {
     "data": {
      "application/vnd.jupyter.widget-view+json": {
       "model_id": "",
       "version_major": 2,
       "version_minor": 0
      },
      "text/plain": [
       "  0%|          | 0/1500 [00:00<?, ?it/s]"
      ]
     },
     "metadata": {},
     "output_type": "display_data"
    },
    {
     "name": "stdout",
     "output_type": "stream",
     "text": [
      "Epoch 96/100, Loss: 0.0209\n"
     ]
    },
    {
     "data": {
      "application/vnd.jupyter.widget-view+json": {
       "model_id": "",
       "version_major": 2,
       "version_minor": 0
      },
      "text/plain": [
       "  0%|          | 0/1500 [00:00<?, ?it/s]"
      ]
     },
     "metadata": {},
     "output_type": "display_data"
    },
    {
     "name": "stdout",
     "output_type": "stream",
     "text": [
      "Epoch 97/100, Loss: 0.0209\n"
     ]
    },
    {
     "data": {
      "application/vnd.jupyter.widget-view+json": {
       "model_id": "",
       "version_major": 2,
       "version_minor": 0
      },
      "text/plain": [
       "  0%|          | 0/1500 [00:00<?, ?it/s]"
      ]
     },
     "metadata": {},
     "output_type": "display_data"
    },
    {
     "name": "stdout",
     "output_type": "stream",
     "text": [
      "Epoch 98/100, Loss: 0.0208\n"
     ]
    },
    {
     "data": {
      "application/vnd.jupyter.widget-view+json": {
       "model_id": "",
       "version_major": 2,
       "version_minor": 0
      },
      "text/plain": [
       "  0%|          | 0/1500 [00:00<?, ?it/s]"
      ]
     },
     "metadata": {},
     "output_type": "display_data"
    },
    {
     "name": "stdout",
     "output_type": "stream",
     "text": [
      "Epoch 99/100, Loss: 0.0208\n"
     ]
    },
    {
     "data": {
      "application/vnd.jupyter.widget-view+json": {
       "model_id": "",
       "version_major": 2,
       "version_minor": 0
      },
      "text/plain": [
       "  0%|          | 0/1500 [00:00<?, ?it/s]"
      ]
     },
     "metadata": {},
     "output_type": "display_data"
    },
    {
     "name": "stdout",
     "output_type": "stream",
     "text": [
      "Epoch 100/100, Loss: 0.0207\n"
     ]
    }
   ],
   "source": [
    "model.train(X_train, y_train, epochs=100)"
   ]
  },
  {
   "cell_type": "code",
   "execution_count": 106,
   "id": "a166c770-8167-4ef4-a3e1-4542be05f1af",
   "metadata": {},
   "outputs": [],
   "source": [
    "model.save(\"model.pkl\")"
   ]
  },
  {
   "cell_type": "markdown",
   "id": "fba3da44-c369-4f3b-a455-72a9edd5be2e",
   "metadata": {},
   "source": [
    "## 4.评估与测试"
   ]
  },
  {
   "cell_type": "code",
   "execution_count": null,
   "id": "f4d60394-c3f8-43b7-9cb7-738ea5d9b5fa",
   "metadata": {},
   "outputs": [],
   "source": [
    "def f1_score(y_true, y_pred):\n",
    "    precisions = []\n",
    "    recalls = []\n",
    "    for label in np.unique(y_true):\n",
    "        tp = np.sum((y_true == label) & (y_pred == label))\n",
    "        fp = np.sum((y_true != label) & (y_pred == label))\n",
    "        fn = np.sum((y_true == label) & (y_pred != label))\n",
    "\n",
    "        precision = tp / (tp + fp) if tp + fp > 0 else 0\n",
    "        recall = tp / (tp + fn) if tp + fn > 0 else 0\n",
    "\n",
    "        precisions.append(precision)\n",
    "        recalls.append(recall)\n",
    "\n",
    "    f1_scores = []\n",
    "    for precision, recall in zip(precisions, recalls):\n",
    "        f1 = (\n",
    "            2 * (precision * recall) / (precision + recall)\n",
    "            if precision + recall > 0\n",
    "            else 0\n",
    "        )\n",
    "        f1_scores.append(f1)\n",
    "\n",
    "    weights = np.bincount(y_true) / len(y_true)\n",
    "    weighted_f1 = np.sum(f1_scores * weights)\n",
    "\n",
    "    return weighted_f1"
   ]
  },
  {
   "cell_type": "code",
   "execution_count": 71,
   "id": "83f542f0-b3d4-47e7-9862-e29321da9a54",
   "metadata": {},
   "outputs": [],
   "source": [
    "loaded_model = LogLinearModel.load(\"model.pkl\")"
   ]
  },
  {
   "cell_type": "code",
   "execution_count": null,
   "id": "f6a81fe4-feff-4f1b-8fdd-4f4aaede732a",
   "metadata": {},
   "outputs": [],
   "source": [
    "val_predictions = loaded_model.predict(X_val)\n",
    "val_accuracy = np.mean(val_predictions == np.argmax(y_val, axis=1))\n",
    "print(f\"Validation Accuracy: {val_accuracy:.4f}\")"
   ]
  },
  {
   "cell_type": "code",
   "execution_count": 112,
   "id": "9bdae433-1c66-487c-8121-b73b5a5c090a",
   "metadata": {},
   "outputs": [
    {
     "name": "stdout",
     "output_type": "stream",
     "text": [
      "F1 Score: 0.8733\n"
     ]
    }
   ],
   "source": [
    "f1 = f1_score(np.argmax(y_val, axis=1), val_predictions, average=\"weighted\")\n",
    "print(f\"F1 Score: {f1:.4f}\")"
   ]
  },
  {
   "cell_type": "code",
   "execution_count": 113,
   "id": "7e659a50-6efd-4b16-951a-897ef8c604d0",
   "metadata": {},
   "outputs": [
    {
     "name": "stdout",
     "output_type": "stream",
     "text": [
      "Classification Report:\n",
      "              precision    recall  f1-score   support\n",
      "\n",
      "           0       0.87      0.87      0.87      5956\n",
      "           1       0.95      0.95      0.95      6058\n",
      "           2       0.82      0.84      0.83      5911\n",
      "           3       0.86      0.84      0.85      6075\n",
      "\n",
      "    accuracy                           0.87     24000\n",
      "   macro avg       0.87      0.87      0.87     24000\n",
      "weighted avg       0.87      0.87      0.87     24000\n",
      "\n"
     ]
    }
   ],
   "source": [
    "print(\"Classification Report:\")\n",
    "print(classification_report(np.argmax(y_val, axis=1), val_predictions))"
   ]
  },
  {
   "cell_type": "code",
   "execution_count": 77,
   "id": "17b3fcb7-4a13-496b-b551-3c5e724ac002",
   "metadata": {},
   "outputs": [
    {
     "name": "stdout",
     "output_type": "stream",
     "text": [
      "Validation Accuracy: 0.8043\n"
     ]
    }
   ],
   "source": [
    "val_predictions = loaded_model.predict(tf_idf)\n",
    "val_accuracy = np.mean(val_predictions == np.argmax(y, axis=1))\n",
    "print(f\"Validation Accuracy: {val_accuracy:.4f}\")"
   ]
  },
  {
   "cell_type": "code",
   "execution_count": 80,
   "id": "41060448-ebf2-4d33-8649-07682465d582",
   "metadata": {},
   "outputs": [
    {
     "name": "stdout",
     "output_type": "stream",
     "text": [
      "F1 Score: 0.8032\n"
     ]
    }
   ],
   "source": [
    "f1 = f1_score(np.argmax(y, axis=1), val_predictions)\n",
    "print(f\"F1 Score: {f1:.4f}\")"
   ]
  },
  {
   "cell_type": "code",
   "execution_count": 81,
   "id": "3577474e-24cb-4642-b942-d9e9eab6d689",
   "metadata": {},
   "outputs": [
    {
     "name": "stdout",
     "output_type": "stream",
     "text": [
      "Classification Report:\n",
      "              precision    recall  f1-score   support\n",
      "\n",
      "           0       0.86      0.72      0.79      1900\n",
      "           1       0.83      0.94      0.88      1900\n",
      "           2       0.72      0.81      0.76      1900\n",
      "           3       0.83      0.75      0.79      1900\n",
      "\n",
      "    accuracy                           0.80      7600\n",
      "   macro avg       0.81      0.80      0.80      7600\n",
      "weighted avg       0.81      0.80      0.80      7600\n",
      "\n"
     ]
    }
   ],
   "source": [
    "print(\"Classification Report:\")\n",
    "print(classification_report(np.argmax(y, axis=1), val_predictions))"
   ]
  },
  {
   "cell_type": "code",
   "execution_count": null,
   "id": "d8d6ed64-0d5c-4ed6-b051-c8170e163a35",
   "metadata": {},
   "outputs": [],
   "source": []
  }
 ],
 "metadata": {
  "kernelspec": {
   "display_name": "Python 3 (ipykernel)",
   "language": "python",
   "name": "python3"
  },
  "language_info": {
   "codemirror_mode": {
    "name": "ipython",
    "version": 3
   },
   "file_extension": ".py",
   "mimetype": "text/x-python",
   "name": "python",
   "nbconvert_exporter": "python",
   "pygments_lexer": "ipython3",
   "version": "3.10.11"
  }
 },
 "nbformat": 4,
 "nbformat_minor": 5
}
