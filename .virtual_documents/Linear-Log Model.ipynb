





import math
import re
from collections import Counter

import nltk
import numpy as np
import pandas as pd
from nltk import pos_tag
from nltk.corpus import wordnet
from nltk.stem import WordNetLemmatizer
from scipy.sparse import csr_matrix


nltk.download("wordnet")
nltk.download("omw-1.4")
nltk.download("averaged_perceptron_tagger")





df = pd.read_csv(
    "ag_news_csv/train.csv", header=None, names=["label", "title", "description"]
)


print(df.head())


def replace_space(word):
    return re.sub(r"[-\\/&]", " ", word)


df["title"] = df["title"].apply(replace_space)
df["description"] = df["description"].apply(replace_space)


def replace_num(word):
    return re.sub(r"\d+", "<NUM>", word)


df["title"] = df["title"].apply(replace_num)
df["description"] = df["description"].apply(replace_num)


def separate_num(word):
    return re.sub(r"(<NUM>)", r" \1 ", word)


df["title"] = df["title"].apply(separate_num)
df["description"] = df["description"].apply(separate_num)


print(df)


def tokenize(text):
    return text.split()


df["tokens"] = df["title"].apply(tokenize) + df["description"].apply(tokenize)


print(df["tokens"])


df.drop("description", axis=1, inplace=True)
df.drop("title", axis=1, inplace=True)


print(df)


def lower(tokens):
    return [word.lower() for word in tokens]


df["tokens"] = df["tokens"].apply(lower)


print(df["tokens"])


def remove_word_suffixes(word):
    if word.endswith("'s"):
        word = word[:-2]
    # elif word.endswith("s"):
    #    word = word[:-1]
    else:
        return re.sub(r'[.,:()\'"?;#$!]', "", word)


def remove_suffixes(tokens):
    return [remove_word_suffixes(word) for word in tokens]


df["tokens"] = df["tokens"].apply(remove_suffixes)


print(df["tokens"])


def remove_stopwords(tokens):
    return [word for word in tokens if (word not in stopwords) and (word is not None)]


with open("stopwords.txt") as file:
    stopwords = file.read().split(",")


print(stopwords)


df["tokens"] = df["tokens"].apply(remove_stopwords)


print(df["tokens"])


def get_wordnet_pos(treebank_tag):
    if treebank_tag.startswith("J"):
        return wordnet.ADJ
    elif treebank_tag.startswith("V"):
        return wordnet.VERB
    elif treebank_tag.startswith("N"):
        return wordnet.NOUN
    elif treebank_tag.startswith("R"):
        return wordnet.ADV
    else:
        return wordnet.NOUN


def lemmatize_with_pos(tokens):
    pos_tagged = pos_tag(tokens)
    return [
        lemmatizer.lemmatize(token, get_wordnet_pos(pos)) for token, pos in pos_tagged
    ]


lemmatizer = WordNetLemmatizer()

df["tokens"] = df["tokens"].apply(lemmatize_with_pos)


print(df["tokens"])


df.to_pickle("processed_train_data.pkl")





df = pd.read_pickle("processed_train_data.pkl")


print(df)


words_counter = Counter()
for tokens in df["tokens"]:
    words_counter.update(tokens)
vocabulary = dict(words_counter)


counter = 0
for key, value in vocabulary.items():
    if counter < 20:
        print(f"{key}: {value}")
        counter += 1
    else:
        break


def compute_tf(tokens):
    tf = Counter(tokens)
    for i in tf:
        tf[i] = (1 + math.log10(tf[i])) if tf[i] != 0 else 0
    return dict(tf)


TF = [compute_tf(tokens) for tokens in df["tokens"]]


counter = 0
for i in TF:
    if counter < 10:
        print(i)
        counter += 1
    else:
        break


def compute_idf(dft, df_tokens_len):
    return math.log10(df_tokens_len / dft)


IDF = {word: compute_idf(dft, len(df["tokens"])) for word, dft in vocabulary.items()}


counter = 0
for key, value in IDF.items():
    if counter < 20:
        print(f"{key}: {value}")
        counter += 1
    else:
        break


data = []
indices = []
indptr = [0]


word_list = list(IDF.keys())
word_to_index = {word: i for i, word in enumerate(word_list)}


for i in range(len(TF)):
    for word, tf in TF[i].items():
        if word in IDF:
            tf_idf = tf * IDF[word]
            data.append(tf_idf)
            indices.append(word_to_index[word])
    indptr.append(len(data))


tf_idf = csr_matrix((data, indices, indptr), shape=(len(TF), len(IDF)), dtype=float)


print(tf_idf)





labels = df["label"]
lambda_vector = np.zeros(tf_idf.shape[1])
epochs = 1000
lr = 0.01


def f_i(word_index, doc_index, label):
    return tf_idf[doc_index][word_index] if labels[doc_index] == label else 0


def p(doc_index, label, lambda_vec):
    return np.exp(
        lambda_vec
        @ [f_i(word_index, doc_index, label) for word_index in tf_idf.shape[1]]
    ) / np.sum(
        [
            np.exp(
                lambda_vec
                @ [
                    f_i(word_index, doc_index, label_prime)
                    for word_index in tf_idf.shape[1]
                ]
            )
            for label_prime in range(1, 5)
        ]
    )


def LL()


for t in range(epochs):
    delta_vec = [
        np.sum(f_i(word_index, doc_index, labels[doc_index]))
        - np.sum(
            [
                np.sum(
                    [
                        f_i(word_index, doc_index, label_prime)
                        * p(doc_index, label_prime, lambda_vector)
                        for label_prime in range(1, 5)
                    ]
                )
                for doc_index in range(tf_idf.shape[0])
            ]
        )
        for word_index in range(tf_idf.shape[1])
    ]



