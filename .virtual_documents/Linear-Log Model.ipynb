





import math
import pickle
import re
from collections import Counter

import nltk
import numpy as np
import pandas as pd
from nltk import pos_tag
from nltk.corpus import wordnet
from nltk.stem import WordNetLemmatizer
from scipy.sparse import csr_matrix
from sklearn.metrics import classification_report
from sklearn.model_selection import train_test_split
from tqdm.notebook import tqdm


nltk.download("wordnet")
nltk.download("omw-1.4")
nltk.download("averaged_perceptron_tagger")





df = pd.read_csv(
    "ag_news_csv/train.csv", header=None, names=["label", "title", "description"]
)


df = pd.read_csv(
    "ag_news_csv/test.csv", header=None, names=["label", "title", "description"]
)


print(df.head())


def replace_space(word):
    return re.sub(r"[-\\/&]", " ", word)


df["title"] = df["title"].apply(replace_space)
df["description"] = df["description"].apply(replace_space)


def replace_num(word):
    return re.sub(r"\d+", "<NUM>", word)


df["title"] = df["title"].apply(replace_num)
df["description"] = df["description"].apply(replace_num)


def separate_num(word):
    return re.sub(r"(<NUM>)", r" \1 ", word)


df["title"] = df["title"].apply(separate_num)
df["description"] = df["description"].apply(separate_num)


print(df)


def tokenize(text):
    return text.split()


df["tokens"] = df["title"].apply(tokenize) + df["description"].apply(tokenize)


print(df["tokens"])


df.drop("description", axis=1, inplace=True)
df.drop("title", axis=1, inplace=True)


print(df)


def lower(tokens):
    return [word.lower() for word in tokens]


df["tokens"] = df["tokens"].apply(lower)


print(df["tokens"])


def remove_word_suffixes(word):
    if word.endswith("'s"):
        word = word[:-2]
    # elif word.endswith("s"):
    #    word = word[:-1]
    else:
        return re.sub(r'[.,:()\'"?;#$!]', "", word)


def remove_suffixes(tokens):
    return [remove_word_suffixes(word) for word in tokens]


df["tokens"] = df["tokens"].apply(remove_suffixes)


print(df["tokens"])


def remove_stopwords(tokens):
    return [word for word in tokens if (word not in stopwords) and (word is not None)]


with open("stopwords.txt") as file:
    stopwords = file.read().split(",")


print(stopwords)


df["tokens"] = df["tokens"].apply(remove_stopwords)


print(df["tokens"])


def get_wordnet_pos(treebank_tag):
    if treebank_tag.startswith("J"):
        return wordnet.ADJ
    elif treebank_tag.startswith("V"):
        return wordnet.VERB
    elif treebank_tag.startswith("N"):
        return wordnet.NOUN
    elif treebank_tag.startswith("R"):
        return wordnet.ADV
    else:
        return wordnet.NOUN


def lemmatize_with_pos(tokens):
    pos_tagged = pos_tag(tokens)
    return [
        lemmatizer.lemmatize(token, get_wordnet_pos(pos)) for token, pos in pos_tagged
    ]


lemmatizer = WordNetLemmatizer()

df["tokens"] = df["tokens"].apply(lemmatize_with_pos)


print(df["tokens"])


df.to_pickle("processed_train_data.pkl")


df.to_pickle("processed_test_data.pkl")





df = pd.read_pickle("processed_train_data.pkl")


df = pd.read_pickle("processed_test_data.pkl")


print(df)


words_counter = Counter()
for tokens in df["tokens"]:
    words_counter.update(tokens)
vocabulary = dict(words_counter)


counter = 0
for key, value in vocabulary.items():
    if counter < 20:
        print(f"{key}: {value}")
        counter += 1
    else:
        break


def compute_tf(tokens):
    tf = Counter(tokens)
    for i in tf:
        tf[i] = (1 + math.log10(tf[i])) if tf[i] != 0 else 0
    return dict(tf)


TF = [compute_tf(tokens) for tokens in df["tokens"]]


counter = 0
for i in TF:
    if counter < 10:
        print(i)
        counter += 1
    else:
        break


def compute_idf(dft, df_tokens_len):
    return math.log10(df_tokens_len / dft)


IDF = {word: compute_idf(dft, len(df["tokens"])) for word, dft in vocabulary.items()}


with open("IDF.pkl", "wb") as f:
    pickle.dump(IDF, f)


with open("IDF.pkl", "rb") as f:
    IDF = pickle.load(f)


counter = 0
for key, value in IDF.items():
    if counter < 20:
        print(f"{key}: {value}")
        counter += 1
    else:
        break


data = []
indices = []
indptr = [0]


word_list = list(IDF.keys())
word_to_index = {word: i for i, word in enumerate(word_list)}


for i in range(len(TF)):
    for word, tf in TF[i].items():
        if word in IDF:
            tf_idf = tf * IDF[word]
            data.append(tf_idf)
            indices.append(word_to_index[word])
    indptr.append(len(data))


tf_idf = csr_matrix((data, indices, indptr), shape=(len(TF), len(IDF)), dtype=float)


print(tf_idf)


print(tf_idf.shape)





class LogLinearModel:
    def __init__(self, n_features, n_classes):
        self.n_features = n_features
        self.n_classes = n_classes
        self.weights = np.zeros((n_classes, n_features))

    def train(self, X, y, lr=0.01, epochs=20, batch_size=64):
        n_samples = X.shape[0]
        for epoch in tqdm(range(epochs)):
            batch_losses = []
            shuffled_indices = np.random.permutation(n_samples)
            for start_index in tqdm(range(0, n_samples, batch_size), leave=False):
                end_index = min(start_index + batch_size, n_samples)
                batch_indices = shuffled_indices[start_index:end_index]

                batch_X = X[batch_indices].toarray()
                batch_y = y[batch_indices]

                scores = batch_X.dot(self.weights.T)
                probs = self._softmax(scores)

                loss = self._cross_entropy(probs, batch_y)
                batch_losses.append(loss)

                delta = (probs - batch_y).T.dot(batch_X)
                self.weights -= lr * delta

            epoch_loss = np.mean(batch_losses)
            print(f"Epoch {epoch+1}/{epochs}, Loss: {epoch_loss:.4f}")

    def predict(self, X):
        scores = X.dot(self.weights.T)
        probs = self._softmax(scores)
        return np.argmax(probs, axis=1)

    def _softmax(self, x):
        exp_x = np.exp(x - np.max(x, axis=1, keepdims=True))
        return exp_x / exp_x.sum(axis=1, keepdims=True)

    def _cross_entropy(self, probs, y_true):
        log_probs = -np.log(probs[range(len(probs)), np.argmax(y_true, axis=1)])
        return np.mean(log_probs)

    def save(self, filepath):
        with open(filepath, "wb") as f:
            pickle.dump(self, f)

    @staticmethod
    def load(filepath):
        with open(filepath, "rb") as f:
            return pickle.load(f)


y = np.eye(4)[df["label"] - 1]


print(y)


X_train, X_val, y_train, y_val = train_test_split(
    tf_idf, y, test_size=0.2, random_state=42
)


model = LogLinearModel(X_train.shape[1], 4)


model.train(X_train, y_train, epochs=100)


model.save("model.pkl")





def f1_score(y_true, y_pred):
    precisions = []
    recalls = []
    for label in np.unique(y_true):
        tp = np.sum((y_true == label) & (y_pred == label))
        fp = np.sum((y_true != label) & (y_pred == label))
        fn = np.sum((y_true == label) & (y_pred != label))

        precision = tp / (tp + fp) if tp + fp > 0 else 0
        recall = tp / (tp + fn) if tp + fn > 0 else 0

        precisions.append(precision)
        recalls.append(recall)

    f1_scores = []
    for precision, recall in zip(precisions, recalls):
        f1 = (
            2 * (precision * recall) / (precision + recall)
            if precision + recall > 0
            else 0
        )
        f1_scores.append(f1)

    weights = np.bincount(y_true) / len(y_true)
    weighted_f1 = np.sum(f1_scores * weights)

    return weighted_f1


loaded_model = LogLinearModel.load("model.pkl")


val_predictions = loaded_model.predict(X_val)
val_accuracy = np.mean(val_predictions == np.argmax(y_val, axis=1))
print(f"Validation Accuracy: {val_accuracy:.4f}")


f1 = f1_score(np.argmax(y_val, axis=1), val_predictions, average="weighted")
print(f"F1 Score: {f1:.4f}")


print("Classification Report:")
print(classification_report(np.argmax(y_val, axis=1), val_predictions))


val_predictions = loaded_model.predict(tf_idf)
val_accuracy = np.mean(val_predictions == np.argmax(y, axis=1))
print(f"Validation Accuracy: {val_accuracy:.4f}")


f1 = f1_score(np.argmax(y, axis=1), val_predictions)
print(f"F1 Score: {f1:.4f}")


print("Classification Report:")
print(classification_report(np.argmax(y, axis=1), val_predictions))



