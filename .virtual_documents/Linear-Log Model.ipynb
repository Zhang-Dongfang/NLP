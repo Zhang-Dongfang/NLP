





import math
import re
from collections import Counter

import nltk
import numpy as np
import pandas as pd
from nltk import pos_tag
from nltk.corpus import wordnet
from nltk.stem import WordNetLemmatizer
from scipy.sparse import csr_matrix
from sklearn.metrics import accuracy_score, f1_score, precision_score, recall_score
from sklearn.model_selection import train_test_split
from tqdm.notebook import tqdm


nltk.download("wordnet")
nltk.download("omw-1.4")
nltk.download("averaged_perceptron_tagger")





df = pd.read_csv(
    "ag_news_csv/train.csv", header=None, names=["label", "title", "description"]
)


print(df.head())


def replace_space(word):
    return re.sub(r"[-\\/&]", " ", word)


df["title"] = df["title"].apply(replace_space)
df["description"] = df["description"].apply(replace_space)


def replace_num(word):
    return re.sub(r"\d+", "<NUM>", word)


df["title"] = df["title"].apply(replace_num)
df["description"] = df["description"].apply(replace_num)


def separate_num(word):
    return re.sub(r"(<NUM>)", r" \1 ", word)


df["title"] = df["title"].apply(separate_num)
df["description"] = df["description"].apply(separate_num)


print(df)


def tokenize(text):
    return text.split()


df["tokens"] = df["title"].apply(tokenize) + df["description"].apply(tokenize)


print(df["tokens"])


df.drop("description", axis=1, inplace=True)
df.drop("title", axis=1, inplace=True)


print(df)


def lower(tokens):
    return [word.lower() for word in tokens]


df["tokens"] = df["tokens"].apply(lower)


print(df["tokens"])


def remove_word_suffixes(word):
    if word.endswith("'s"):
        word = word[:-2]
    # elif word.endswith("s"):
    #    word = word[:-1]
    else:
        return re.sub(r'[.,:()\'"?;#$!]', "", word)


def remove_suffixes(tokens):
    return [remove_word_suffixes(word) for word in tokens]


df["tokens"] = df["tokens"].apply(remove_suffixes)


print(df["tokens"])


def remove_stopwords(tokens):
    return [word for word in tokens if (word not in stopwords) and (word is not None)]


with open("stopwords.txt") as file:
    stopwords = file.read().split(",")


print(stopwords)


df["tokens"] = df["tokens"].apply(remove_stopwords)


print(df["tokens"])


def get_wordnet_pos(treebank_tag):
    if treebank_tag.startswith("J"):
        return wordnet.ADJ
    elif treebank_tag.startswith("V"):
        return wordnet.VERB
    elif treebank_tag.startswith("N"):
        return wordnet.NOUN
    elif treebank_tag.startswith("R"):
        return wordnet.ADV
    else:
        return wordnet.NOUN


def lemmatize_with_pos(tokens):
    pos_tagged = pos_tag(tokens)
    return [
        lemmatizer.lemmatize(token, get_wordnet_pos(pos)) for token, pos in pos_tagged
    ]


lemmatizer = WordNetLemmatizer()

df["tokens"] = df["tokens"].apply(lemmatize_with_pos)


print(df["tokens"])


df.to_pickle("processed_train_data.pkl")





df = pd.read_pickle("processed_train_data.pkl")


print(df)


words_counter = Counter()
for tokens in df["tokens"]:
    words_counter.update(tokens)
vocabulary = dict(words_counter)


counter = 0
for key, value in vocabulary.items():
    if counter < 20:
        print(f"{key}: {value}")
        counter += 1
    else:
        break


def compute_tf(tokens):
    tf = Counter(tokens)
    for i in tf:
        tf[i] = (1 + math.log10(tf[i])) if tf[i] != 0 else 0
    return dict(tf)


TF = [compute_tf(tokens) for tokens in df["tokens"]]


counter = 0
for i in TF:
    if counter < 10:
        print(i)
        counter += 1
    else:
        break


def compute_idf(dft, df_tokens_len):
    return math.log10(df_tokens_len / dft)


IDF = {word: compute_idf(dft, len(df["tokens"])) for word, dft in vocabulary.items()}


counter = 0
for key, value in IDF.items():
    if counter < 20:
        print(f"{key}: {value}")
        counter += 1
    else:
        break


data = []
indices = []
indptr = [0]


word_list = list(IDF.keys())
word_to_index = {word: i for i, word in enumerate(word_list)}


for i in range(len(TF)):
    for word, tf in TF[i].items():
        if word in IDF:
            tf_idf = tf * IDF[word]
            data.append(tf_idf)
            indices.append(word_to_index[word])
    indptr.append(len(data))


tf_idf = csr_matrix((data, indices, indptr), shape=(len(TF), len(IDF)), dtype=float)


print(tf_idf)





labels = df["label"]
lambda_vector = np.zeros(tf_idf.shape[1])
epochs = 100
lr = 0.01
batch_size = 128
num_docs, num_words = tf_idf.shape


train_tf_idf, test_tf_idf, train_labels, test_labels = train_test_split(
    tf_idf, labels, test_size=0.2, random_state=42
)


def f_i(doc_index, label):
    row = tf_idf.getrow(doc_index)
    if labels[doc_index] == label:
        return row.toarray()[0]
    else:
        return np.zeros(num_words)


def p(doc_index, label, lambda_vec):
    return np.exp(lambda_vec @ f_i(doc_index, label)) / np.sum(
        [np.exp(lambda_vec @ f_i(doc_index, label)) for label_prime in range(1, 5)]
    )


def compute_delta(doc_index, label, label_prime, lambda_vector):
    p_prime = p(doc_index, label_prime, lambda_vector)
    return f_i(doc_index, label) - p_prime * f_i(doc_index, label_prime)


def compute_loss(lambda_vec):
    loss = 0
    for doc_index in range(num_docs):
        true_label = labels[doc_index]
        log_prob = np.log(p(doc_index, true_label, lambda_vec))
        loss -= log_prob
    return loss / num_docs


for t in tqdm(range(epochs), desc="Epochs"):
    permuted_index_vec = np.random.permutation(num_docs)

    for batch_start_index in tqdm(
        range(0, num_docs, batch_size), desc="Batches", leave=False
    ):
        batch_index_vec = permuted_index_vec[
            batch_start_index : batch_start_index + batch_size
        ]
        grad_approx = np.zeros_like(lambda_vector)
        for doc_index in batch_index_vec:
            for label_prime in range(1, 5):
                if label_prime != labels[doc_index]:
                    grad_approx += compute_delta(
                        doc_index, labels[doc_index], label_prime, lambda_vector
                    )

        lambda_vector -= (lr / batch_size) * grad_approx

    loss = compute_loss(lambda_vector)
    print(f"Epoch {t+1}/{epochs}, Loss: {loss:.4f}")


print(lambda_vector.shape)


def predict(doc_index, lambda_vector):
    probs = [p(doc_index, label, lambda_vector) for label in range(1, max(labels) + 1)]
    return np.argmax(probs) + 1


print(tf_idf[0].shape)


print(np.nonzero(tf_idf[1])[0])



